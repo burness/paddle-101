{
  "cells": [
    {
      "cell_type": "markdown",
      "metadata": {},
      "source": [
        "# Inference Server Example\n",
        "\n",
        "The inference server can be used to perform inference on any model trained on\n",
        "PaddlePaddle. It provides an HTTP endpoint.\n",
        "\n",
        "## Run\n",
        "\n",
        "The inference server reads a trained model (a topology file and a\n",
        "parameter file) and serves HTTP request at port `8000`. Because models\n",
        "differ in the numbers and types of inputs, **the HTTP API will differ\n",
        "slightly for each model,** please see [HTTP API](#http-api) for the\n",
        "API spec,\n",
        "and\n",
        "[here](https://github.com/PaddlePaddle/book/wiki/Using-Pre-trained-Models) for\n",
        "the request examples of different models that illustrate the\n",
        "difference.\n",
        "\n",
        "We will first show how to obtain the PaddlePaddle model, and then how\n",
        "to start the server.\n",
        "\n",
        "We will use Docker to run the demo, if you are not familiar with\n",
        "Docker, please checkout\n",
        "this\n",
        "[TLDR](https://github.com/PaddlePaddle/Paddle/wiki/Docker-for-Beginners).\n",
        "\n",
        "### Obtain the PaddlePaddle Model\n",
        "\n",
        "A neural network model in PaddlePaddle contains two parts: the\n",
        "**parameter** and the **topology**.\n",
        "\n",
        "A PaddlePaddle training script contains the neural network topology,\n",
        "which is represented by layers. For example,\n",
        "\n"
      ]
    },
    {
      "cell_type": "code",
      "metadata": {
        "editable": true
      },
      "source": [
        "img = paddle.layer.data(name=\"img\", type=paddle.data_type.dense_vector(784))\n",
        "hidden = fc_layer(input=type, size=200)\n",
        "prediction = fc_layer(input=hidden, size=10, act=paddle.activation.Softmax())\n"
      ],
      "outputs": [
        {
          "name": "stdout",
          "output_type": "stream",
          "text": [
            "\n"
          ]
        }
      ],
      "execution_count": 1
    },
    {
      "cell_type": "markdown",
      "metadata": {},
      "source": [
        "\n",
        "The parameter instance is created by the topology and updated by the\n",
        "`train` method.\n",
        "\n"
      ]
    },
    {
      "cell_type": "code",
      "metadata": {
        "editable": true
      },
      "source": [
        "...\n",
        "params = paddle.parameters.create(cost)\n",
        "...\n",
        "trainer = paddle.trainer.SGD(cost=cost, parameters=params)\n",
        "...\n"
      ],
      "outputs": [
        {
          "name": "stdout",
          "output_type": "stream",
          "text": [
            "\n"
          ]
        }
      ],
      "execution_count": 1
    },
    {
      "cell_type": "markdown",
      "metadata": {},
      "source": [
        "\n",
        "PaddlePaddle stores the topology and parameter separately.\n",
        "\n",
        "1. To serialize a topology, we need to create a topology instance\n",
        "   explicitly by the outputs of the neural network. Then, invoke\n",
        "   `serialize_for_inference` method.\n",
        "\n"
      ]
    },
    {
      "cell_type": "code",
      "metadata": {
        "editable": true
      },
      "source": [
        "  # Save the inference topology to protobuf.\n",
        "  inference_topology = paddle.topology.Topology(layers=prediction)\n",
        "  with open(\"inference_topology.pkl\", 'wb') as f:\n",
        "      inference_topology.serialize_for_inference(f)\n"
      ],
      "outputs": [
        {
          "name": "stdout",
          "output_type": "stream",
          "text": [
            "\n"
          ]
        }
      ],
      "execution_count": 1
    },
    {
      "cell_type": "markdown",
      "metadata": {},
      "source": [
        "\n",
        "2. To save a parameter, we need to invoke `save_parameter_to_tar` method of\n",
        "  `trainer`.\n",
        "\n"
      ]
    },
    {
      "cell_type": "code",
      "metadata": {
        "editable": true
      },
      "source": [
        "  with open('param.tar', 'w') as f:\n",
        "      trainer.save_parameter_to_tar(f)\n"
      ],
      "outputs": [
        {
          "name": "stdout",
          "output_type": "stream",
          "text": [
            "\n"
          ]
        }
      ],
      "execution_count": 1
    },
    {
      "cell_type": "markdown",
      "metadata": {},
      "source": [
        "\n",
        " After serializing the parameter and topology into two files, we could\n",
        " use them to set up an inference server.\n",
        "\n",
        " For a working example, please see [train.py](https://github.com/reyoung/paddle_mnist_v2_demo/blob/master/train.py).\n",
        "\n",
        "\n",
        "### Start the Server\n",
        "\n",
        "Make sure the `inference_topology.pkl` and `param.tar` mentioned in\n",
        "the last section are in your current working directory, and run the\n",
        "command:\n",
        "\n",
        "```bash\n",
        "docker run --name paddle_serve -v `pwd`:/data -d -p 8000:80 -e WITH_GPU=0 paddlepaddle/book:serve\n",
        "```\n",
        "\n",
        "The above command will mount the current working directory to the\n",
        "`/data/` directory inside the docker container. The inference server\n",
        "will load the model topology and parameters that we just created from\n",
        "there.\n",
        "\n",
        "To run the inference server with GPU support, please make sure you have\n",
        "[nvidia-docker](https://github.com/NVIDIA/nvidia-docker)\n",
        "first, and run:\n",
        "\n",
        "```bash\n",
        "nvidia-docker run --name paddle_serve -v `pwd`:/data -d -p 8000:80 -e WITH_GPU=1 paddlepaddle/book:serve-gpu\n",
        "```\n",
        "\n",
        "this command will start a server on port `8000`.\n",
        "\n",
        "After you are done with the demo, you can run `docker stop\n",
        "paddle_serve` to stop this docker container.\n",
        "\n",
        "## HTTP API\n",
        "\n",
        "The inference server will handle HTTP POST request on path `/`. The\n",
        "content type of the request and response is json. You need to manually\n",
        "add `Content-Type` request header as `Content-Type: application/json`.\n",
        "\n",
        "The request json object is a single json dictionay object, whose key\n",
        "is the layer name of input data. The type of the corresponding value\n",
        "is decided by the data type. For most cases the corresponding value\n",
        "will be a list of floats. For completeness, we will list all data types\n",
        "below:\n",
        "\n",
        "There are twelve data types supported by PaddePaddle:\n",
        "\n",
        "| | plain | a sequence | a sequence of sequence |\n",
        "| --- | --- | --- | ---|\n",
        "| dense | [ f, f, f, f, ... ] | [ [f, f, f, ...], [f, f, f, ...]] | [[[f, f, ...], [f, f, ...]], [[f, f, ...], [f, f, ...]], ...] |\n",
        "| integer | i | [i, i, ...] | [[i, i, ...], [i, i, ...], ...] |\n",
        "| sparse | [i, i, ...] | [[i, i, ...], [i, i, ...], ...] | [[[i, i, ...], [i, i, ...], ...], [[i, i, ...], [i, i, ...], ...], ...] |\n",
        "| sparse | [[i, f], [i, f], ... ] | [[[i, f], [i, f], ... ], ...] | [[[[i, f], [i, f], ... ], ...], ...]\n",
        "\n",
        "In the table, `i` stands for a `int` value and `f` stands for a\n",
        "`float` value.\n",
        "\n",
        "What `data_type` should be used is decided by the training\n",
        "topology. For example,\n",
        "\n",
        "* For image data, they are usually a plain dense vector, we flatten\n",
        "  the image into a vector. The pixel values of that image are usually\n",
        "  normalized in `[-1.0, 1.0]` or `[0.0, 1.0]`(depends on each neural\n",
        "  network).\n",
        "\n",
        "    ```text\n",
        "    +-------+\n",
        "   |243 241|\n",
        "   |139 211| +----\u003e[0.95, 0.95, 0.54, 0.82]\n",
        "   +-------+\n",
        "    ```\n",
        "\n",
        "* For text data, each word of that text is represented by an\n",
        "  integer. The association map between word and integer is decided by\n",
        "  the training process. A sentence is represented by a list of\n",
        "  integer.\n",
        "\n",
        "   ```text\n",
        "    I am good .\n",
        "        +\n",
        "        |\n",
        "        v\n",
        "   23 942 402 19  +-----\u003e  [23, 942, 402, 19]\n",
        "   ```\n",
        "\n",
        "A sample request data of a `4x4` image and a sentence could be\n",
        "\n",
        "```json\n",
        "{\n",
        "    \"img\": [\n",
        "        0.95,\n",
        "        0.95,\n",
        "        0.54,\n",
        "        0.82\n",
        "    ],\n",
        "    \"sentence\": [\n",
        "        23,\n",
        "        942,\n",
        "        402,\n",
        "        19\n",
        "    ]\n",
        "}\n",
        "```\n",
        "\n",
        "The response is a json object, too. The example of return data are:\n",
        "\n",
        "```json\n",
        "{\n",
        "  \"code\": 0,\n",
        "  \"data\": [\n",
        "    [\n",
        "      0.10060056298971176,\n",
        "      0.057179879397153854,\n",
        "      0.1453431099653244,\n",
        "      0.15825574100017548,\n",
        "      0.04464773088693619,\n",
        "      0.1566203236579895,\n",
        "      0.05657859891653061,\n",
        "      0.12077419459819794,\n",
        "      0.08073269575834274,\n",
        "      0.07926714420318604\n",
        "    ]\n",
        "  ],\n",
        "  \"message\": \"success\"\n",
        "}\n",
        "```\n",
        "\n",
        "Here, `code` and `message` represent the status of the request.\n",
        "`data` corresponds to the outputs of the neural network; they could be a\n",
        "probability of each class, could be the IDs of output sentence, and so\n",
        "on.\n",
        "\n",
        "## MNIST Demo Client\n",
        "\n",
        "If you have trained an model with [train.py](https://github.com/reyoung/paddle_mnist_v2_demo/blob/master/train.py) and\n",
        "start a inference server. Then you can use this [client](https://github.com/PaddlePaddle/book/tree/develop/02.recognize_digits/client/client.py) to test if it works right.\n",
        "\n",
        "## Build\n",
        "\n",
        "We have already prepared the pre-built docker image\n",
        "`paddlepaddle/book:serve`, here is the command if you want to build\n",
        "the docker image again.\n",
        "\n",
        "```bash\n",
        "docker build -t paddlepaddle/book:serve .\n",
        "docker build -t paddlepaddle/book:serve-gpu -f Dockerfile.gpu .\n",
        "```\n"
      ]
    }
  ],
  "metadata": {
    "kernelspec": {
      "display_name": "Python 3",
      "language": "python",
      "name": "python3"
    },
    "language_info": {
      "codemirror_mode": {
        "name": "ipython",
        "version": 3
      },
      "file_extension": ".py",
      "mimetype": "text/x-python",
      "name": "python",
      "nbconvert_exporter": "python",
      "pygments_lexer": "ipython3",
      "version": "3.6.0"
    }
  },
  "nbformat": 4,
  "nbformat_minor": 0
}
