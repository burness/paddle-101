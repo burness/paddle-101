{
  "cells": [
    {
      "cell_type": "markdown",
      "metadata": {},
      "source": [
        "# Sentiment Analysis\n",
        "\n",
        "The source codes of this section is located at [book/understand_sentiment](https://github.com/PaddlePaddle/book/tree/develop/06.understand_sentiment). First-time users may refer to PaddlePaddle for [Installation guide](https://github.com/PaddlePaddle/book/blob/develop/README.md#running-the-book).\n",
        "\n",
        "## Background\n",
        "\n",
        "In natural language processing, sentiment analysis refers to determining the emotion expressed in a piece of text. The text can be a sentence, a paragraph, or a document. Emotion categorization can be binary -- positive/negative or happy/sad -- or in three classes -- positive/neutral/negative. Sentiment analysis is applicable in a wide range of services, such as e-commerce sites like Amazon and Taobao, hospitality services like Airbnb and hotels.com, and movie rating sites like Rotten Tomatoes and IMDB. It can be used to gauge from the reviews how the customers feel about the product. Table 1 illustrates an example of sentiment analysis in movie reviews:\n",
        "\n",
        "| Movie Review       | Category  |\n",
        "| --------     | -----  |\n",
        "| Best movie of Xiaogang Feng in recent years!| Positive |\n",
        "| Pretty bad. Feels like a tv-series from a local TV-channel     | Negative |\n",
        "| Politically correct version of Taken ... and boring as Heck| Negative|\n",
        "|delightful, mesmerizing, and completely unexpected. The plot is nicely designed.|Positive|\n",
        "\n",
        "\u003cp align=\"center\"\u003eTable 1 Sentiment Analysis in Movie Reviews\u003c/p\u003e\n",
        "\n",
        "In natural language processing, sentiment analysis can be categorized as a **Text Classification problem**, i.e., to categorize a piece of text to a specific class. It involves two related tasks: text representation and classification. Before the emergence of deep learning techniques, the mainstream methods for text representation include BOW (*bag of words*) and topic modeling, while the latter contains SVM (*support vector machine*) and LR (*logistic regression*).\n",
        "\n",
        "The BOW model does not capture all the information in a piece of text, as it ignores syntax and grammar and just treats the text as a set of words. For example, “this movie is extremely bad“ and “boring, dull, and empty work” describe very similar semantic meaning, yet their BOW representations have very little similarity. Furthermore, “the movie is bad“ and “the movie is not bad“ have high similarity with BOW features, but they express completely opposite semantics.\n",
        "\n",
        "This chapter introduces a deep learning model that handles these issues in BOW. Our model embeds texts into a low-dimensional space and takes word order into consideration. It is an end-to-end framework and it has large performance improvement over traditional methods \\[[1](#references)\\].\n",
        "\n",
        "## Model Overview\n",
        "\n",
        "The model we used in this chapter uses **Convolutional Neural Networks** (**CNNs**) and **Recurrent Neural Networks** (**RNNs**) with some specific extensions.\n",
        "\n",
        "\n",
        "### Revisit to the Convolutional Neural Networks for Texts (CNN)\n",
        "\n",
        "The convolutional neural network for texts is introduced in chapter [recommender_system](https://github.com/PaddlePaddle/book/tree/develop/05.recommender_system), here is a brief overview.\n",
        "\n",
        "CNN mainly contains convolution and pooling operation, with versatile combinations in various applications. We firstly apply the convolution operation: we apply the kernel in each window, extracting features. Convolving by the kernel at every window produces a feature map. Next, we apply *max pooling* over time to represent the whole sentence, which is the maximum element across the feature map. In real applications, we will apply multiple CNN kernels on the sentences. It can be implemented efficiently by concatenating the kernels together as a matrix. Also, we can use CNN kernels with different kernel size. Finally, concatenating the resulting features produces a fixed-length representation, which can be combined with a softmax to form the model for the sentiment analysis problem.\n",
        "\n",
        "For short texts, the aforementioned CNN model can achieve very high accuracy \\[[1](#references)\\]. If we want to extract more abstract representations, we may apply a deeper CNN model \\[[2](#references),[3](#references)\\].\n",
        "\n",
        "### Recurrent Neural Network (RNN)\n",
        "\n",
        "RNN is an effective model for sequential data. In terms of computability, the RNN is Turing-complete \\[[4](#references)\\]. Since NLP is a classical problem of sequential data, the RNN, especially its variant LSTM\\[[5](#references)\\]), achieves state-of-the-art performance on various NLP tasks, such as language modeling, syntax parsing, POS-tagging, image captioning, dialog, machine translation, and so forth.\n",
        "\n",
        "\u003cp align=\"center\"\u003e\n",
        "\u003cimg src=\"image/rnn.png\" width = \"60%\" align=\"center\"/\u003e\u003cbr/\u003e\n",
        "Figure 1. An illustration of an unfolded RNN in time.\n",
        "\u003c/p\u003e\n",
        "\n",
        "As shown in Figure 1, we unfold an RNN: at the $t$-th time step, the network takes two inputs: the $t$-th input vector $\\vec{x_t}$ and the latent state from the last time-step $\\vec{h_{t-1}}$. From those, it computes the latent state of the current step $\\vec{h_t}$. This process is repeated until all inputs are consumed. Denoting the RNN as function $f$, it can be formulated as follows:\n",
        "\n",
        "$$\\vec{h_t}=f(\\vec{x_t},\\vec{h_{t-1}})=\\sigma(W_{xh}\\vec{x_t}+W_{hh}\\vec{h_{h-1}}+\\vec{b_h})$$\n",
        "\n",
        "where $W_{xh}$ is the weight matrix to feed into the latent layer; $W_{hh}$ is the latent-to-latent matrix; $b_h$ is the latent bias and $\\sigma$ refers to the $sigmoid$ function.\n",
        "\n",
        "In NLP, words are often represented as one-hot vectors and then mapped to an embedding. The embedded feature goes through an RNN as input $x_t$ at every time step. Moreover, we can add other layers on top of RNN, such as a deep or stacked RNN. Finally, the last latent state may be used as a feature for sentence classification.\n",
        "\n",
        "### Long-Short Term Memory (LSTM)\n",
        "\n",
        "Training an RNN on long sequential data sometimes leads to the gradient vanishing or exploding\\[[6](#references)\\]. To solve this problem Hochreiter S, Schmidhuber J. (1997) proposed **Long Short Term Memory** (LSTM)\\[[5](#references)\\]).\n",
        "\n",
        "Compared to the structure of a simple RNN, an LSTM includes memory cell $c$, input gate $i$, forget gate $f$ and output gate $o$. These gates and memory cells dramatically improve the ability for the network to handle long sequences. We can formulate the **LSTM-RNN**, denoted as a function $F$, as follows：\n",
        "\n",
        "$$ h_t=F(x_t,h_{t-1})$$\n",
        "\n",
        "$F$ contains following formulations\\[[7](#references)\\]：\n",
        "\\begin{align}\n",
        "i_t \u0026 = \\sigma(W_{xi}x_t+W_{hi}h_{h-1}+W_{ci}c_{t-1}+b_i)\\\\\\\\\n",
        "f_t \u0026 = \\sigma(W_{xf}x_t+W_{hf}h_{h-1}+W_{cf}c_{t-1}+b_f)\\\\\\\\\n",
        "c_t \u0026 = f_t\\odot c_{t-1}+i_t\\odot \\tanh(W_{xc}x_t+W_{hc}h_{h-1}+b_c)\\\\\\\\\n",
        "o_t \u0026 = \\sigma(W_{xo}x_t+W_{ho}h_{h-1}+W_{co}c_{t}+b_o)\\\\\\\\\n",
        "h_t \u0026 = o_t\\odot \\tanh(c_t)\\\\\\\\\n",
        "\\end{align}\n",
        "\n",
        "In the equation，$i_t, f_t, c_t, o_t$ stand for input gate, forget gate, memory cell and output gate, respectively. $W$ and $b$ are model parameters, $\\tanh$ is a hyperbolic tangent, and $\\odot$ denotes an element-wise product operation. The input gate controls the magnitude of the new input into the memory cell $c$; the forget gate controls the memory propagated from the last time step; the output gate controls the magnitutde of the output. The three gates are computed similarly with different parameters, and they influence memory cell $c$ separately, as shown in Figure 2:\n",
        "\n",
        "\u003cp align=\"center\"\u003e\n",
        "\u003cimg src=\"image/lstm_en.png\" width = \"65%\" align=\"center\"/\u003e\u003cbr/\u003e\n",
        "Figure 2. LSTM at time step $t$ [7].\n",
        "\u003c/p\u003e\n",
        "\n",
        "LSTM enhances the ability of considering long-term reliance, with the help of memory cell and gate. Similar structures are also proposed in Gated Recurrent Unit (GRU)\\[[8](Reference)\\] with a simpler design. **The structures are still similar to RNN, though with some modifications (As shown in Figure 2), i.e., latent status depends on input as well as the latent status of the last time step, and the process goes on recurrently until all inputs are consumed:**\n",
        "\n",
        "$$ h_t=Recrurent(x_t,h_{t-1})$$\n",
        "where $Recrurent$ is a simple RNN, GRU or LSTM.\n",
        "\n",
        "### Stacked Bidirectional LSTM\n",
        "\n",
        "For vanilla LSTM, $h_t$ contains input information from previous time-step $1..t-1$ context. We can also apply an RNN with reverse-direction to take successive context $t+1…n$ into consideration. Combining constructing deep RNN (deeper RNN can contain more abstract and higher level semantic), we can design structures with deep stacked bidirectional LSTM to model sequential data\\[[9](#references)\\].\n",
        "\n",
        "As shown in Figure 3 (3-layer RNN), odd/even layers are forward/reverse LSTM. Higher layers of LSTM take lower-layers LSTM as input, and the top-layer LSTM produces a fixed length vector by max-pooling (this representation considers contexts from previous and successive words for higher-level abstractions). Finally, we concatenate the output to a softmax layer for classification.\n",
        "\n",
        "\u003cp align=\"center\"\u003e\n",
        "\u003cimg src=\"image/stacked_lstm_en.png\" width=450\u003e\u003cbr/\u003e\n",
        "Figure 3. Stacked Bidirectional LSTM for NLP modeling.\n",
        "\u003c/p\u003e\n",
        "\n",
        "## Dataset\n",
        "\n",
        "We use [IMDB](http://ai.stanford.edu/%7Eamaas/data/sentiment/) dataset for sentiment analysis in this tutorial, which consists of 50,000 movie reviews split evenly into a 25k train set and a 25k test set. In the labeled train/test sets, a negative review has a score \u003c= 4 out of 10, and a positive review has a score \u003e= 7 out of 10.\n",
        "\n",
        "`paddle.datasets` package encapsulates multiple public datasets, including `cifar`, `imdb`, `mnist`, `moivelens`, and `wmt14`, etc. There's no need for us to manually download and preprocess IMDB.\n",
        "\n",
        "After issuing a command `python train.py`, training will start immediately. The details will be unpacked by the following sessions to see how it works.\n",
        "\n",
        "\n",
        "## Model Structure\n",
        "\n",
        "### Initialize PaddlePaddle\n",
        "\n",
        "We must import and initialize PaddlePaddle (enable/disable GPU, set the number of trainers, etc).\n",
        "\n"
      ]
    },
    {
      "cell_type": "code",
      "metadata": {
        "editable": true
      },
      "source": [
        "import sys\n",
        "import paddle.v2 as paddle\n",
        "\n",
        "# PaddlePaddle init\n",
        "paddle.init(use_gpu=False, trainer_count=1)\n"
      ],
      "outputs": [
        {
          "name": "stdout",
          "output_type": "stream",
          "text": [
            "\n"
          ]
        }
      ],
      "execution_count": 1
    },
    {
      "cell_type": "markdown",
      "metadata": {},
      "source": [
        "\n",
        "As alluded to in section [Model Overview](#model-overview), here we provide the implementations of both Text CNN and Stacked-bidirectional LSTM models.\n",
        "\n",
        "### Text Convolution Neural Network (Text CNN)\n",
        "\n",
        "We create a neural network `convolution_net` as the following snippet code.\n",
        "\n",
        "Note: `paddle.networks.sequence_conv_pool` includes both convolution and pooling layer operations.\n",
        "\n"
      ]
    },
    {
      "cell_type": "code",
      "metadata": {
        "editable": true
      },
      "source": [
        "def convolution_net(input_dim, class_dim=2, emb_dim=128, hid_dim=128):\n",
        "    data = paddle.layer.data(\"word\",\n",
        "                             paddle.data_type.integer_value_sequence(input_dim))\n",
        "    emb = paddle.layer.embedding(input=data, size=emb_dim)\n",
        "    conv_3 = paddle.networks.sequence_conv_pool(\n",
        "        input=emb, context_len=3, hidden_size=hid_dim)\n",
        "    conv_4 = paddle.networks.sequence_conv_pool(\n",
        "        input=emb, context_len=4, hidden_size=hid_dim)\n",
        "    output = paddle.layer.fc(input=[conv_3, conv_4],\n",
        "                             size=class_dim,\n",
        "                             act=paddle.activation.Softmax())\n",
        "    lbl = paddle.layer.data(\"label\", paddle.data_type.integer_value(2))\n",
        "    cost = paddle.layer.classification_cost(input=output, label=lbl)\n",
        "    return cost, output\n"
      ],
      "outputs": [
        {
          "name": "stdout",
          "output_type": "stream",
          "text": [
            "\n"
          ]
        }
      ],
      "execution_count": 1
    },
    {
      "cell_type": "markdown",
      "metadata": {},
      "source": [
        "\n",
        "1. Define input data and its dimension\n",
        "\n",
        "    Parameter `input_dim` denotes the dictionary size, and `class_dim` is the number of categories. In `convolution_net`, the input to the network is defined in `paddle.layer.data`.\n",
        "\n",
        "1. Define Classifier\n",
        "\n",
        "    The above Text CNN network extracts high-level features and maps them to a vector of the same size as the categories. `paddle.activation.Softmax` function or classifier is then used for calculating the probability of the sentence belonging to each category.\n",
        "\n",
        "1. Define Loss Function\n",
        "\n",
        "    In the context of supervised learning, labels of the training set are defined in `paddle.layer.data`, too. During training, cross-entropy is used as loss function in `paddle.layer.classification_cost` and as the output of the network; During testing, the outputs are the probabilities calculated in the classifier.\n",
        "\n",
        "#### Stacked bidirectional LSTM\n",
        "\n",
        "We create a neural network `stacked_lstm_net` as below.\n",
        "\n"
      ]
    },
    {
      "cell_type": "code",
      "metadata": {
        "editable": true
      },
      "source": [
        "def stacked_lstm_net(input_dim,\n",
        "                     class_dim=2,\n",
        "                     emb_dim=128,\n",
        "                     hid_dim=512,\n",
        "                     stacked_num=3):\n",
        "    \"\"\"\n",
        "    A Wrapper for sentiment classification task.\n",
        "    This network uses a bi-directional recurrent network,\n",
        "    consisting of three LSTM layers. This configuration is\n",
        "    motivated from the following paper, but uses few layers.\n",
        "        http://www.aclweb.org/anthology/P15-1109\n",
        "    input_dim: here is word dictionary dimension.\n",
        "    class_dim: number of categories.\n",
        "    emb_dim: dimension of word embedding.\n",
        "    hid_dim: dimension of hidden layer.\n",
        "    stacked_num: number of stacked lstm-hidden layer.\n",
        "    \"\"\"\n",
        "    assert stacked_num % 2 == 1\n",
        "\n",
        "    fc_para_attr = paddle.attr.Param(learning_rate=1e-3)\n",
        "    lstm_para_attr = paddle.attr.Param(initial_std=0., learning_rate=1.)\n",
        "    para_attr = [fc_para_attr, lstm_para_attr]\n",
        "    bias_attr = paddle.attr.Param(initial_std=0., l2_rate=0.)\n",
        "    relu = paddle.activation.Relu()\n",
        "    linear = paddle.activation.Linear()\n",
        "\n",
        "    data = paddle.layer.data(\"word\",\n",
        "                             paddle.data_type.integer_value_sequence(input_dim))\n",
        "    emb = paddle.layer.embedding(input=data, size=emb_dim)\n",
        "\n",
        "    fc1 = paddle.layer.fc(input=emb,\n",
        "                          size=hid_dim,\n",
        "                          act=linear,\n",
        "                          bias_attr=bias_attr)\n",
        "    lstm1 = paddle.layer.lstmemory(\n",
        "        input=fc1, act=relu, bias_attr=bias_attr)\n",
        "\n",
        "    inputs = [fc1, lstm1]\n",
        "    for i in range(2, stacked_num + 1):\n",
        "        fc = paddle.layer.fc(input=inputs,\n",
        "                             size=hid_dim,\n",
        "                             act=linear,\n",
        "                             param_attr=para_attr,\n",
        "                             bias_attr=bias_attr)\n",
        "        lstm = paddle.layer.lstmemory(\n",
        "            input=fc,\n",
        "            reverse=(i % 2) == 0,\n",
        "            act=relu,\n",
        "            bias_attr=bias_attr)\n",
        "        inputs = [fc, lstm]\n",
        "\n",
        "    fc_last = paddle.layer.pooling(\n",
        "        input=inputs[0], pooling_type=paddle.pooling.Max())\n",
        "    lstm_last = paddle.layer.pooling(\n",
        "        input=inputs[1], pooling_type=paddle.pooling.Max())\n",
        "    output = paddle.layer.fc(input=[fc_last, lstm_last],\n",
        "                             size=class_dim,\n",
        "                             act=paddle.activation.Softmax(),\n",
        "                             bias_attr=bias_attr,\n",
        "                             param_attr=para_attr)\n",
        "\n",
        "    lbl = paddle.layer.data(\"label\", paddle.data_type.integer_value(2))\n",
        "    cost = paddle.layer.classification_cost(input=output, label=lbl)\n",
        "    return cost, output\n"
      ],
      "outputs": [
        {
          "name": "stdout",
          "output_type": "stream",
          "text": [
            "\n"
          ]
        }
      ],
      "execution_count": 1
    },
    {
      "cell_type": "markdown",
      "metadata": {},
      "source": [
        "\n",
        "1. Define input data and its dimension\n",
        "\n",
        "    Parameter `input_dim` denotes the dictionary size, and `class_dim` is the number of categories. In `stacked_lstm_net`, the input to the network is defined in `paddle.layer.data`.\n",
        "\n",
        "1. Define Classifier\n",
        "\n",
        "    The above stacked bidirectional LSTM network extracts high-level features and maps them to a vector of the same size as the categories. `paddle.activation.Softmax` function or classifier is then used for calculating the probability of the sentence belonging to each category.\n",
        "\n",
        "1. Define Loss Function\n",
        "\n",
        "    In the context of supervised learning, labels of the training set are defined in `paddle.layer.data`, too. During training, cross-entropy is used as loss function in `paddle.layer.classification_cost` and as the output of the network; During testing, the outputs are the probabilities calculated in the classifier.\n",
        "\n",
        "\n",
        "To reiterate, we can either invoke `convolution_net` or `stacked_lstm_net`.\n",
        "\n"
      ]
    },
    {
      "cell_type": "code",
      "metadata": {
        "editable": true
      },
      "source": [
        "word_dict = paddle.dataset.imdb.word_dict()\n",
        "dict_dim = len(word_dict)\n",
        "class_dim = 2\n",
        "\n",
        "# option 1\n",
        "[cost, output] = convolution_net(dict_dim, class_dim=class_dim)\n",
        "# option 2\n",
        "# [cost, output] = stacked_lstm_net(dict_dim, class_dim=class_dim, stacked_num=3)\n"
      ],
      "outputs": [
        {
          "name": "stdout",
          "output_type": "stream",
          "text": [
            "\n"
          ]
        }
      ],
      "execution_count": 1
    },
    {
      "cell_type": "markdown",
      "metadata": {},
      "source": [
        "\n",
        "## Model Training\n",
        "\n",
        "### Define Parameters\n",
        "\n",
        "First, we create the model parameters according to the previous model configuration `cost`.\n",
        "\n"
      ]
    },
    {
      "cell_type": "code",
      "metadata": {
        "editable": true
      },
      "source": [
        "# create parameters\n",
        "parameters = paddle.parameters.create(cost)\n"
      ],
      "outputs": [
        {
          "name": "stdout",
          "output_type": "stream",
          "text": [
            "\n"
          ]
        }
      ],
      "execution_count": 1
    },
    {
      "cell_type": "markdown",
      "metadata": {},
      "source": [
        "\n",
        "### Create Trainer\n",
        "\n",
        "Before jumping into creating a training module, algorithm setting is also necessary.\n",
        "Here we specified `Adam` optimization algorithm via `paddle.optimizer`.\n",
        "\n"
      ]
    },
    {
      "cell_type": "code",
      "metadata": {
        "editable": true
      },
      "source": [
        "# create optimizer\n",
        "adam_optimizer = paddle.optimizer.Adam(\n",
        "    learning_rate=2e-3,\n",
        "    regularization=paddle.optimizer.L2Regularization(rate=8e-4),\n",
        "    model_average=paddle.optimizer.ModelAverage(average_window=0.5))\n",
        "\n",
        "# create trainer\n",
        "trainer = paddle.trainer.SGD(cost=cost,\n",
        "                                parameters=parameters,\n",
        "                                update_equation=adam_optimizer)\n"
      ],
      "outputs": [
        {
          "name": "stdout",
          "output_type": "stream",
          "text": [
            "\n"
          ]
        }
      ],
      "execution_count": 1
    },
    {
      "cell_type": "markdown",
      "metadata": {},
      "source": [
        "\n",
        "### Training\n",
        "\n",
        "`paddle.dataset.imdb.train()` will yield records during each pass, after shuffling, a batch input is generated for training.\n",
        "\n"
      ]
    },
    {
      "cell_type": "code",
      "metadata": {
        "editable": true
      },
      "source": [
        "train_reader = paddle.batch(\n",
        "    paddle.reader.shuffle(\n",
        "        lambda: paddle.dataset.imdb.train(word_dict), buf_size=1000),\n",
        "    batch_size=100)\n",
        "\n",
        "test_reader = paddle.batch(\n",
        "    lambda: paddle.dataset.imdb.test(word_dict), batch_size=100)\n"
      ],
      "outputs": [
        {
          "name": "stdout",
          "output_type": "stream",
          "text": [
            "\n"
          ]
        }
      ],
      "execution_count": 1
    },
    {
      "cell_type": "markdown",
      "metadata": {},
      "source": [
        "\n",
        "`feeding` is devoted to specifying the correspondence between each yield record and `paddle.layer.data`. For instance, the first column of data generated by `paddle.dataset.imdb.train()` corresponds to `word` feature.\n",
        "\n"
      ]
    },
    {
      "cell_type": "code",
      "metadata": {
        "editable": true
      },
      "source": [
        "feeding = {'word': 0, 'label': 1}\n"
      ],
      "outputs": [
        {
          "name": "stdout",
          "output_type": "stream",
          "text": [
            "\n"
          ]
        }
      ],
      "execution_count": 1
    },
    {
      "cell_type": "markdown",
      "metadata": {},
      "source": [
        "\n",
        "Callback function `event_handler` will be invoked to track training progress when a pre-defined event happens.\n",
        "\n"
      ]
    },
    {
      "cell_type": "code",
      "metadata": {
        "editable": true
      },
      "source": [
        "def event_handler(event):\n",
        "    if isinstance(event, paddle.event.EndIteration):\n",
        "        if event.batch_id % 100 == 0:\n",
        "            print \"\\nPass %d, Batch %d, Cost %f, %s\" % (\n",
        "                event.pass_id, event.batch_id, event.cost, event.metrics)\n",
        "        else:\n",
        "            sys.stdout.write('.')\n",
        "            sys.stdout.flush()\n",
        "    if isinstance(event, paddle.event.EndPass):\n",
        "        with open('./params_pass_%d.tar' % event.pass_id, 'w') as f:\n",
        "            trainer.save_parameter_to_tar(f)\n",
        "\n",
        "        result = trainer.test(reader=test_reader, feeding=feeding)\n",
        "        print \"\\nTest with Pass %d, %s\" % (event.pass_id, result.metrics)\n"
      ],
      "outputs": [
        {
          "name": "stdout",
          "output_type": "stream",
          "text": [
            "\n"
          ]
        }
      ],
      "execution_count": 1
    },
    {
      "cell_type": "markdown",
      "metadata": {},
      "source": [
        "\n",
        "Finally, we can invoke `trainer.train` to start training:\n",
        "\n"
      ]
    },
    {
      "cell_type": "code",
      "metadata": {
        "editable": true
      },
      "source": [
        "trainer.train(\n",
        "    reader=train_reader,\n",
        "    event_handler=event_handler,\n",
        "    feeding=feeding,\n",
        "    num_passes=10)\n"
      ],
      "outputs": [
        {
          "name": "stdout",
          "output_type": "stream",
          "text": [
            "\n"
          ]
        }
      ],
      "execution_count": 1
    },
    {
      "cell_type": "markdown",
      "metadata": {},
      "source": [
        "\n",
        "\n",
        "## Conclusion\n",
        "\n",
        "In this chapter, we use sentiment analysis as an example to introduce applying deep learning models on end-to-end short text classification, as well as how to use PaddlePaddle to implement the model. Meanwhile, we briefly introduce two models for text processing: CNN and RNN. In following chapters, we will see how these models can be applied in other tasks.\n",
        "\n",
        "## References\n",
        "\n",
        "1. Kim Y. [Convolutional neural networks for sentence classification](http://arxiv.org/pdf/1408.5882)[J]. arXiv preprint arXiv:1408.5882, 2014.\n",
        "2. Kalchbrenner N, Grefenstette E, Blunsom P. [A convolutional neural network for modeling sentences](http://arxiv.org/pdf/1404.2188.pdf?utm_medium=App.net\u0026utm_source=PourOver)[J]. arXiv preprint arXiv:1404.2188, 2014.\n",
        "3. Yann N. Dauphin, et al. [Language Modeling with Gated Convolutional Networks](https://arxiv.org/pdf/1612.08083v1.pdf)[J] arXiv preprint arXiv:1612.08083, 2016.\n",
        "4. Siegelmann H T, Sontag E D. [On the computational power of neural nets](http://research.cs.queensu.ca/home/akl/cisc879/papers/SELECTED_PAPERS_FROM_VARIOUS_SOURCES/05070215382317071.pdf)[C]//Proceedings of the fifth annual workshop on Computational learning theory. ACM, 1992: 440-449.\n",
        "5. Hochreiter S, Schmidhuber J. [Long short-term memory](http://web.eecs.utk.edu/~itamar/courses/ECE-692/Bobby_paper1.pdf)[J]. Neural computation, 1997, 9(8): 1735-1780.\n",
        "6. Bengio Y, Simard P, Frasconi P. [Learning long-term dependencies with gradient descent is difficult](http://www-dsi.ing.unifi.it/~paolo/ps/tnn-94-gradient.pdf)[J]. IEEE transactions on neural networks, 1994, 5(2): 157-166.\n",
        "7. Graves A. [Generating sequences with recurrent neural networks](http://arxiv.org/pdf/1308.0850)[J]. arXiv preprint arXiv:1308.0850, 2013.\n",
        "8. Cho K, Van Merriënboer B, Gulcehre C, et al. [Learning phrase representations using RNN encoder-decoder for statistical machine translation](http://arxiv.org/pdf/1406.1078)[J]. arXiv preprint arXiv:1406.1078, 2014.\n",
        "9. Zhou J, Xu W. [End-to-end learning of semantic role labeling using recurrent neural networks](http://www.aclweb.org/anthology/P/P15/P15-1109.pdf)[C]//Proceedings of the Annual Meeting of the Association for Computational Linguistics. 2015.\n",
        "\n",
        "\u003cbr/\u003e\n",
        "This tutorial is contributed by \u003ca xmlns:cc=\"http://creativecommons.org/ns#\" href=\"http://book.paddlepaddle.org\" property=\"cc:attributionName\" rel=\"cc:attributionURL\"\u003ePaddlePaddle\u003c/a\u003e, and licensed under a \u003ca rel=\"license\" href=\"http://creativecommons.org/licenses/by-sa/4.0/\"\u003eCreative Commons Attribution-ShareAlike 4.0 International License\u003c/a\u003e.\n"
      ]
    }
  ],
  "metadata": {
    "kernelspec": {
      "display_name": "Python 3",
      "language": "python",
      "name": "python3"
    },
    "language_info": {
      "codemirror_mode": {
        "name": "ipython",
        "version": 3
      },
      "file_extension": ".py",
      "mimetype": "text/x-python",
      "name": "python",
      "nbconvert_exporter": "python",
      "pygments_lexer": "ipython3",
      "version": "3.6.0"
    }
  },
  "nbformat": 4,
  "nbformat_minor": 0
}
