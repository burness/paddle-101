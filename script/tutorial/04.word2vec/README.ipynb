{
  "cells": [
    {
      "cell_type": "markdown",
      "metadata": {},
      "source": [
        "# Word2Vec\n",
        "\n",
        "This is intended as a reference tutorial. The source code of this tutorial is located at [book/word2vec](https://github.com/PaddlePaddle/book/tree/develop/04.word2vec).\n",
        "\n",
        "For instructions on getting started with PaddlePaddle, see [PaddlePaddle installation guide](https://github.com/PaddlePaddle/book/blob/develop/README.md#running-the-book).\n",
        "\n",
        "## Background Introduction\n",
        "\n",
        "This section introduces the concept of **word embeddings**, which are vector representations of words. Word embeddings is a popular technique used in natural language processing to support applications such as search engines, advertising systems, and recommendation systems.\n",
        "\n",
        "### One-Hot Vectors\n",
        "\n",
        "Building these applications requires us to quantify the similarity between two words or paragraphs. This calls for a new representation of all the words to make them more suitable for computation. An obvious way to achieve this is through the vector space model, where every word is represented as an **one-hot vector**.\n",
        "\n",
        "For each word, its vector representation has the corresponding entry in the vector as 1, and all other entries as 0. The lengths of one-hot vectors match the size of the dictionary. Each entry of a vector corresponds to the presence (or absence) of a word in the dictionary.\n",
        "\n",
        "One-hot vectors are intuitive, yet they have limited usefulness. Take the example of an Internet advertising system: Suppose a customer enters the query \"Mother's Day\", while an ad bids for the keyword \"carnations\". Because the one-hot vectors of these two words are perpendicular, the metric distance (either Euclidean or cosine similarity) between them would indicate  little relevance. However, *we* know that these two queries are connected semantically, since people often gift their mothers bundles of carnation flowers on Mother's Day. This discrepancy is due to the low information capacity in each vector. That is, comparing the vector representations of two words does not assess their relevance sufficiently. To calculate their similarity accurately, we need more information, which could be learned from large amounts of data through machine learning methods.\n",
        "\n",
        "Like many machine learning models, word embeddings can represent knowledge in various ways. Another model may project an one-hot vector to an embedding vector of lower dimension e.g. $embedding(mother's day) = [0.3, 4.2, -1.5, ...], embedding(carnations) = [0.2, 5.6, -2.3, ...]$. Mapping one-hot vectors onto an embedded vector space has the potential to bring the embedding vectors of similar words (either semantically or usage-wise) closer to each other, so that the cosine similarity between the corresponding vectors for words like \"Mother's Day\" and \"carnations\" are no longer zero.\n",
        "\n",
        "A word embedding model could be a probabilistic model, a co-occurrence matrix model, or a neural network. Before people started using neural networks to generate word embedding, the traditional method was to calculate a co-occurrence matrix $X$ of words. Here, $X$ is a $|V| \\times |V|$ matrix, where $X_{ij}$ represents the co-occurrence times of the $i$th and $j$th words in the vocabulary `V` within all corpus, and $|V|$ is the size of the vocabulary. By performing matrix decomposition on $X$ e.g. Singular Value Decomposition \\[[5](#references)\\]\n",
        "\n",
        "$$X = USV^T$$\n",
        "\n",
        "the resulting $U$ can be seen as the word embedding of all the words.\n",
        "\n",
        "However, this method suffers from many drawbacks:\n",
        "1) Since many pairs of words don't co-occur, the co-occurrence matrix is sparse. To achieve good performance of matrix factorization, further treatment on word frequency is needed;\n",
        "2) The matrix is large, frequently on the order of $10^6*10^6$;\n",
        "3) We need to manually filter out stop words (like \"although\", \"a\", ...), otherwise these frequent words will affect the performance of matrix factorization.\n",
        "\n",
        "The neural network based model does not require storing huge hash tables of statistics on all of the corpus. It obtains the word embedding by learning from semantic information, hence could avoid the aforementioned problems in the traditional method. In this chapter, we will introduce the details of neural network word embedding model and how to train such model in PaddlePaddle.\n",
        "\n",
        "## Results Demonstration\n",
        "\n",
        "In this section, we use the $t-$SNE\\[[4](#references)\\] data visualization algorithm to draw the word embedding vectors after projecting them onto a two-dimensional space (see figure below). From the figure we can see that the semantically relevant words -- *a*, *the*, and *these* or *big* and *huge* -- are close to each other in the projected space, while irrelevant words -- *say* and *business* or *decision* and *japan* -- are far from each other.\n",
        "\n",
        "\u003cp align=\"center\"\u003e\n",
        "    \u003cimg src = \"image/2d_similarity.png\" width=400\u003e\u003cbr/\u003e\n",
        "    Figure 1. Two dimension projection of word embeddings\n",
        "\u003c/p\u003e\n",
        "\n",
        "### Cosine Similarity\n",
        "\n",
        "On the other hand, we know that the cosine similarity between two vectors falls between $[-1,1]$. Specifically, the cosine similarity is 1 when the vectors are identical, 0 when the vectors are perpendicular, -1 when the are of opposite directions. That is, the cosine similarity between two vectors scales with their relevance. So we can calculate the cosine similarity of two word embedding vectors to represent their relevance:\n",
        "\n",
        "```\n",
        "please input two words: big huge\n",
        "similarity: 0.899180685161\n",
        "\n",
        "please input two words: from company\n",
        "similarity: -0.0997506977351\n",
        "```\n",
        "\n",
        "The above results could be obtained by running `calculate_dis.py`, which loads the words in the dictionary and their corresponding trained word embeddings. For detailed instruction, see section [Model Application](https://github.com/PaddlePaddle/book/tree/develop/04.word2vec#model-application).\n",
        "\n",
        "\n",
        "## Model Overview\n",
        "\n",
        "In this section, we will introduce three word embedding models: N-gram model, CBOW, and Skip-gram, which all output the frequency of each word given its immediate context.\n",
        "\n",
        "For N-gram model, we will first introduce the concept of language model, and implement it using PaddlePaddle in section [Training](https://github.com/PaddlePaddle/book/tree/develop/04.word2vec#model-application).\n",
        "\n",
        "The latter two models, which became popular recently, are neural word embedding model developed by Tomas Mikolov at Google \\[[3](#references)\\]. Despite their apparent simplicity, these models train very well.\n",
        "\n",
        "### Language Model\n",
        "\n",
        "Before diving into word embedding models, we will first introduce the concept of **language model**. Language models build the joint probability function $P(w_1, ..., w_T)$ of a sentence, where $w_i$ is the i-th word in the sentence. The goal is to give higher probabilities to meaningful sentences, and lower probabilities to meaningless constructions.\n",
        "\n",
        "In general, models that generate the probability of a sequence can be applied to many fields, like machine translation, speech recognition, information retrieval, part-of-speech tagging, and handwriting recognition. Take information retrieval, for example. If you were to search for \"how long is a football bame\" (where bame is a medical noun), the search engine would have asked if you had meant \"how long is a football game\" instead. This is because the probability of \"how long is a football bame\" is very low according to the language model; in addition, among all of the words easily confused with \"bame\", \"game\" would build the most probable sentence.\n",
        "\n",
        "#### Target Probability\n",
        "For language model's target probability $P(w_1, ..., w_T)$, if the words in the sentence were to be independent, the joint probability of the whole sentence would be the product of each word's probability:\n",
        "\n",
        "$$P(w_1, ..., w_T) = \\prod_{t=1}^TP(w_t)$$\n",
        "\n",
        "However, the frequency of words in a sentence typically relates to the words before them, so canonical language models are constructed using conditional probability in its target probability:\n",
        "\n",
        "$$P(w_1, ..., w_T) = \\prod_{t=1}^TP(w_t | w_1, ... , w_{t-1})$$\n",
        "\n",
        "\n",
        "### N-gram neural model\n",
        "\n",
        "In computational linguistics, n-gram is an important method to represent text. An n-gram represents a contiguous sequence of n consecutive items given a text. Based on the desired application scenario, each item could be a letter, a syllable or a word. The N-gram model is also an important method in statistical language modeling. When training language models with n-grams, the first (n-1) words of an n-gram are used to predict the *n*th word.\n",
        "\n",
        "Yoshua Bengio and other scientists describe how to train a word embedding model using neural network in the famous paper of Neural Probabilistic Language Models \\[[1](#references)\\] published in 2003. The Neural Network Language Model (NNLM) described in the paper learns the language model and word embedding simultaneously through a linear transformation and a non-linear hidden connection. That is, after training on large amounts of corpus, the model learns the word embedding; then, it computes the probability of the whole sentence, using the embedding. This type of language model can overcome the **curse of dimensionality** i.e. model inaccuracy caused by the difference in dimensionality between training and testing data. Note that the term *neural network language model* is ill-defined, so we will not use the name NNLM but only refer to it as *N-gram neural model* in this section.\n",
        "\n",
        "We have previously described language model using conditional probability, where the probability of the *t*-th word in a sentence depends on all $t-1$ words before it. Furthermore, since words further prior have less impact on a word, and every word within an n-gram is only effected by its previous n-1 words, we have:\n",
        "\n",
        "$$P(w_1, ..., w_T) = \\prod_{t=n}^TP(w_t|w_{t-1}, w_{t-2}, ..., w_{t-n+1})$$\n",
        "\n",
        "Given some real corpus in which all sentences are meaningful, the n-gram model should maximize the following objective function:\n",
        "\n",
        "$$\\frac{1}{T}\\sum_t f(w_t, w_{t-1}, ..., w_{t-n+1};\\theta) + R(\\theta)$$\n",
        "\n",
        "where $f(w_t, w_{t-1}, ..., w_{t-n+1})$ represents the conditional logarithmic probability of the current word $w_t$ given its previous $n-1$ words, and $R(\\theta)$ represents parameter regularization term.\n",
        "\n",
        "\u003cp align=\"center\"\u003e\n",
        "       \u003cimg src=\"image/nnlm_en.png\" width=500\u003e\u003cbr/\u003e\n",
        "       Figure 2. N-gram neural network model\n",
        "\u003c/p\u003e\n",
        "\n",
        "\n",
        "Figure 2 shows the N-gram neural network model. From the bottom up, the model has the following components:\n",
        "\n",
        " - For each sample, the model gets input $w_{t-n+1},...w_{t-1}$, and outputs the probability that the t-th word is one of `|V|` in the dictionary.\n",
        "\n",
        " Every input word $w_{t-n+1},...w_{t-1}$ first gets transformed into word embedding $C(w_{t-n+1}),...C(w_{t-1})$ through a transformation matrix.\n",
        "\n",
        " - All the word embeddings concatenate into a single vector, which is mapped (nonlinearly) into the $t$-th word hidden representation:\n",
        "\n",
        "    $$g=Utanh(\\theta^Tx + b_1) + Wx + b_2$$\n",
        "\n",
        "   where $x$ is the large vector concatenated from all the word embeddings representing the context; $\\theta$, $U$, $b_1$, $b_2$ and $W$ are parameters connecting word embedding layers to the hidden layers. $g$ represents the unnormalized probability of the output word, $g_i$ represents the unnormalized probability of the output word being the i-th word in the dictionary.\n",
        "\n",
        " - Based on the definition of softmax, using normalized $g_i$, the probability that the output word is $w_t$ is represented as:\n",
        "\n",
        "  $$P(w_t | w_1, ..., w_{t-n+1}) = \\frac{e^{g_{w_t}}}{\\sum_i^{|V|} e^{g_i}}$$\n",
        "\n",
        " - The cost of the entire network is a multi-class cross-entropy and can be described by the following loss function\n",
        "\n",
        "   $$J(\\theta) = -\\sum_{i=1}^N\\sum_{c=1}^{|V|}y_k^{i}log(softmax(g_k^i))$$\n",
        "\n",
        "   where $y_k^i$ represents the true label for the $k$-th class in the $i$-th sample ($0$ or $1$), $softmax(g_k^i)$ represents the softmax probability for the $k$-th class in the $i$-th sample.\n",
        "\n",
        "### Continuous Bag-of-Words model(CBOW)\n",
        "\n",
        "CBOW model predicts the current word based on the N words both before and after it. When $N=2$, the model is as the figure below:\n",
        "\n",
        "\u003cp align=\"center\"\u003e\n",
        "    \u003cimg src=\"image/cbow_en.png\" width=250\u003e\u003cbr/\u003e\n",
        "    Figure 3. CBOW model\n",
        "\u003c/p\u003e\n",
        "\n",
        "Specifically, by ignoring the order of words in the sequence, CBOW uses the average value of the word embedding of the context to predict the current word:\n",
        "\n",
        "$$\\text{context} = \\frac{x_{t-1} + x_{t-2} + x_{t+1} + x_{t+2}}{4}$$\n",
        "\n",
        "where $x_t$ is the word embedding of the t-th word, classification score vector is $z=U*\\text{context}$, the final classification $y$ uses softmax and the loss function uses multi-class cross-entropy.\n",
        "\n",
        "### Skip-gram model\n",
        "\n",
        "The advantages of CBOW is that it smooths over the word embeddings of the context and reduces noise, so it is very effective on small dataset. Skip-gram uses a word to predict its context and get multiple context for the given word, so it can be used in larger datasets.\n",
        "\n",
        "\u003cp align=\"center\"\u003e\n",
        "    \u003cimg src=\"image/skipgram_en.png\" width=250\u003e\u003cbr/\u003e\n",
        "    Figure 4. Skip-gram model\n",
        "\u003c/p\u003e\n",
        "\n",
        "As illustrated in the figure above, skip-gram model maps the word embedding of the given word onto $2n$ word embeddings (including $n$ words before and $n$ words after the given word), and then combine the classification loss of all those $2n$ words by softmax.\n",
        "\n",
        "## Dataset\n",
        "\n",
        "We will use Penn Treebank (PTB) (Tomas Mikolov's pre-processed version) dataset. PTB is a small dataset, used in Recurrent Neural Network Language Modeling Toolkit\\[[2](#references)\\]. Its statistics are as follows:\n",
        "\n",
        "\u003cp align=\"center\"\u003e\n",
        "\u003ctable\u003e\n",
        "    \u003ctr\u003e\n",
        "        \u003ctd\u003etraining set\u003c/td\u003e\n",
        "        \u003ctd\u003evalidation set\u003c/td\u003e\n",
        "        \u003ctd\u003etest set\u003c/td\u003e\n",
        "    \u003c/tr\u003e\n",
        "    \u003ctr\u003e\n",
        "        \u003ctd\u003eptb.train.txt\u003c/td\u003e\n",
        "        \u003ctd\u003eptb.valid.txt\u003c/td\u003e\n",
        "        \u003ctd\u003eptb.test.txt\u003c/td\u003e\n",
        "    \u003c/tr\u003e\n",
        "    \u003ctr\u003e\n",
        "        \u003ctd\u003e42068 lines\u003c/td\u003e\n",
        "        \u003ctd\u003e3370 lines\u003c/td\u003e\n",
        "        \u003ctd\u003e3761 lines\u003c/td\u003e\n",
        "    \u003c/tr\u003e\n",
        "\u003c/table\u003e\n",
        "\u003c/p\u003e\n",
        "\n",
        "### Python Dataset Module\n",
        "\n",
        "We encapsulated the PTB Data Set in our Python module `paddle.dataset.imikolov`. This module can\n",
        "\n",
        "1. download the dataset to `~/.cache/paddle/dataset/imikolov`, if not yet, and\n",
        "2. [preprocesses](#preprocessing) the dataset.\n",
        "\n",
        "### Preprocessing\n",
        "\n",
        "We will be training a 5-gram model. Given five words in a window, we will predict the fifth word given the first four words.\n",
        "\n",
        "Beginning and end of a sentence have a special meaning, so we will add begin token `\u003cs\u003e` in the front of the sentence. And end token `\u003ce\u003e` in the end of the sentence. By moving the five word window in the sentence, data instances are generated.\n",
        "\n",
        "For example, the sentence \"I have a dream that one day\" generates five data instances:\n",
        "\n",
        "```text\n",
        "\u003cs\u003e I have a dream\n",
        "I have a dream that\n",
        "have a dream that one\n",
        "a dream that one day\n",
        "dream that one day \u003ce\u003e\n",
        "```\n",
        "\n",
        "At last, each data instance will be converted into an integer sequence according it's words' index inside the dictionary.\n",
        "\n",
        "## Training\n",
        "\n",
        "The neural network that we will be using is illustrated in the graph below:\n",
        "\n",
        "\u003cp align=\"center\"\u003e\n",
        "    \u003cimg src=\"image/ngram.en.png\" width=400\u003e\u003cbr/\u003e\n",
        "    Figure 5. N-gram neural network model in model configuration\n",
        "\u003c/p\u003e\n",
        "\n",
        "`word2vec/train.py` demonstrates training word2vec using PaddlePaddle:\n",
        "\n",
        "- Import packages.\n",
        "\n"
      ]
    },
    {
      "cell_type": "code",
      "metadata": {
        "editable": true
      },
      "source": [
        "import math\n",
        "import paddle.v2 as paddle\n"
      ],
      "outputs": [
        {
          "name": "stdout",
          "output_type": "stream",
          "text": [
            "\n"
          ]
        }
      ],
      "execution_count": 1
    },
    {
      "cell_type": "markdown",
      "metadata": {},
      "source": [
        "\n",
        "- Configure parameter.\n",
        "\n"
      ]
    },
    {
      "cell_type": "code",
      "metadata": {
        "editable": true
      },
      "source": [
        "embsize = 32 # word vector dimension\n",
        "hiddensize = 256 # hidden layer dimension\n",
        "N = 5 # train 5-gram\n"
      ],
      "outputs": [
        {
          "name": "stdout",
          "output_type": "stream",
          "text": [
            "\n"
          ]
        }
      ],
      "execution_count": 1
    },
    {
      "cell_type": "markdown",
      "metadata": {},
      "source": [
        "\n",
        "\n",
        "- functions used to save and load word dict and embedding table\n"
      ]
    },
    {
      "cell_type": "code",
      "metadata": {
        "editable": true
      },
      "source": [
        "# save and load word dict and embedding table\n",
        "def save_dict_and_embedding(word_dict, embeddings):\n",
        "    with open(\"word_dict\", \"w\") as f:\n",
        "        for key in word_dict:\n",
        "            f.write(key + \" \" + str(word_dict[key]) + \"\\n\")\n",
        "    with open(\"embedding_table\", \"w\") as f:\n",
        "        numpy.savetxt(f, embeddings, delimiter=',', newline='\\n')\n",
        "\n",
        "\n",
        "def load_dict_and_embedding():\n",
        "    word_dict = dict()\n",
        "    with open(\"word_dict\", \"r\") as f:\n",
        "        for line in f:\n",
        "            key, value = line.strip().split(\" \")\n",
        "            word_dict[key] = int(value)\n",
        "\n",
        "    embeddings = numpy.loadtxt(\"embedding_table\", delimiter=\",\")\n",
        "    return word_dict, embeddings\n"
      ],
      "outputs": [
        {
          "name": "stdout",
          "output_type": "stream",
          "text": [
            "\n"
          ]
        }
      ],
      "execution_count": 1
    },
    {
      "cell_type": "markdown",
      "metadata": {},
      "source": [
        "\n",
        "- Map the $n-1$ words $w_{t-n+1},...w_{t-1}$ before $w_t$ to a D-dimensional vector though matrix of dimention $|V|\\times D$ (D=32 in this example).\n",
        "\n"
      ]
    },
    {
      "cell_type": "code",
      "metadata": {
        "editable": true
      },
      "source": [
        "def wordemb(inlayer):\n",
        "    wordemb = paddle.layer.table_projection(\n",
        "        input=inlayer,\n",
        "        size=embsize,\n",
        "        param_attr=paddle.attr.Param(\n",
        "            name=\"_proj\",\n",
        "            initial_std=0.001,\n",
        "            learning_rate=1,\n",
        "            l2_rate=0,\n",
        "            sparse_update=True))\n",
        "    return wordemb\n"
      ],
      "outputs": [
        {
          "name": "stdout",
          "output_type": "stream",
          "text": [
            "\n"
          ]
        }
      ],
      "execution_count": 1
    },
    {
      "cell_type": "markdown",
      "metadata": {},
      "source": [
        "\n",
        "- Define name and type for input to data layer.\n",
        "\n"
      ]
    },
    {
      "cell_type": "code",
      "metadata": {
        "editable": true
      },
      "source": [
        "paddle.init(use_gpu=False, trainer_count=3)\n",
        "word_dict = paddle.dataset.imikolov.build_dict()\n",
        "dict_size = len(word_dict)\n",
        "# Every layer takes integer value of range [0, dict_size)\n",
        "firstword = paddle.layer.data(\n",
        "    name=\"firstw\", type=paddle.data_type.integer_value(dict_size))\n",
        "secondword = paddle.layer.data(\n",
        "    name=\"secondw\", type=paddle.data_type.integer_value(dict_size))\n",
        "thirdword = paddle.layer.data(\n",
        "    name=\"thirdw\", type=paddle.data_type.integer_value(dict_size))\n",
        "fourthword = paddle.layer.data(\n",
        "    name=\"fourthw\", type=paddle.data_type.integer_value(dict_size))\n",
        "nextword = paddle.layer.data(\n",
        "    name=\"fifthw\", type=paddle.data_type.integer_value(dict_size))\n",
        "\n",
        "Efirst = wordemb(firstword)\n",
        "Esecond = wordemb(secondword)\n",
        "Ethird = wordemb(thirdword)\n",
        "Efourth = wordemb(fourthword)\n"
      ],
      "outputs": [
        {
          "name": "stdout",
          "output_type": "stream",
          "text": [
            "\n"
          ]
        }
      ],
      "execution_count": 1
    },
    {
      "cell_type": "markdown",
      "metadata": {},
      "source": [
        "\n",
        "- Concatenate n-1 word embedding vectors into a single feature vector.\n",
        "\n"
      ]
    },
    {
      "cell_type": "code",
      "metadata": {
        "editable": true
      },
      "source": [
        "contextemb = paddle.layer.concat(input=[Efirst, Esecond, Ethird, Efourth])\n"
      ],
      "outputs": [
        {
          "name": "stdout",
          "output_type": "stream",
          "text": [
            "\n"
          ]
        }
      ],
      "execution_count": 1
    },
    {
      "cell_type": "markdown",
      "metadata": {},
      "source": [
        "\n",
        "- Feature vector will go through a fully connected layer which outputs a hidden feature vector.\n",
        "\n"
      ]
    },
    {
      "cell_type": "code",
      "metadata": {
        "editable": true
      },
      "source": [
        "hidden1 = paddle.layer.fc(input=contextemb,\n",
        "                          size=hiddensize,\n",
        "                          act=paddle.activation.Sigmoid(),\n",
        "                          layer_attr=paddle.attr.Extra(drop_rate=0.5),\n",
        "                          bias_attr=paddle.attr.Param(learning_rate=2),\n",
        "                          param_attr=paddle.attr.Param(\n",
        "                                initial_std=1. / math.sqrt(embsize * 8),\n",
        "                                learning_rate=1))\n"
      ],
      "outputs": [
        {
          "name": "stdout",
          "output_type": "stream",
          "text": [
            "\n"
          ]
        }
      ],
      "execution_count": 1
    },
    {
      "cell_type": "markdown",
      "metadata": {},
      "source": [
        "\n",
        "- Hidden feature vector will go through another fully conected layer, turn into a $|V|$ dimensional vector. At the same time softmax will be applied to get the probability of each word being generated.\n",
        "\n"
      ]
    },
    {
      "cell_type": "code",
      "metadata": {
        "editable": true
      },
      "source": [
        "predictword = paddle.layer.fc(input=hidden1,\n",
        "                              size=dict_size,\n",
        "                              bias_attr=paddle.attr.Param(learning_rate=2),\n",
        "                              act=paddle.activation.Softmax())\n"
      ],
      "outputs": [
        {
          "name": "stdout",
          "output_type": "stream",
          "text": [
            "\n"
          ]
        }
      ],
      "execution_count": 1
    },
    {
      "cell_type": "markdown",
      "metadata": {},
      "source": [
        "\n",
        "- We will use cross-entropy cost function.\n",
        "\n"
      ]
    },
    {
      "cell_type": "code",
      "metadata": {
        "editable": true
      },
      "source": [
        "cost = paddle.layer.classification_cost(input=predictword, label=nextword)\n"
      ],
      "outputs": [
        {
          "name": "stdout",
          "output_type": "stream",
          "text": [
            "\n"
          ]
        }
      ],
      "execution_count": 1
    },
    {
      "cell_type": "markdown",
      "metadata": {},
      "source": [
        "\n",
        "- Create parameter, optimizer and trainer.\n",
        "\n"
      ]
    },
    {
      "cell_type": "code",
      "metadata": {
        "editable": true
      },
      "source": [
        "parameters = paddle.parameters.create(cost)\n",
        "adagrad = paddle.optimizer.AdaGrad(\n",
        "    learning_rate=3e-3,\n",
        "    regularization=paddle.optimizer.L2Regularization(8e-4))\n",
        "trainer = paddle.trainer.SGD(cost, parameters, adagrad)\n"
      ],
      "outputs": [
        {
          "name": "stdout",
          "output_type": "stream",
          "text": [
            "\n"
          ]
        }
      ],
      "execution_count": 1
    },
    {
      "cell_type": "markdown",
      "metadata": {},
      "source": [
        "\n",
        "Next, we will begin the training process. `paddle.dataset.imikolov.train()` and `paddle.dataset.imikolov.test()` is our training set and test set. Both of the function will return a **reader**: In PaddlePaddle, reader is a python function which returns a Python iterator which output a single data instance at a time.\n",
        "\n",
        "`paddle.batch` takes reader as input, outputs a **batched reader**: In PaddlePaddle, a reader outputs a single data instance at a time but batched reader outputs a minibatch of data instances.\n",
        "\n"
      ]
    },
    {
      "cell_type": "code",
      "metadata": {
        "editable": true
      },
      "source": [
        "def event_handler(event):\n",
        "    if isinstance(event, paddle.event.EndIteration):\n",
        "        if event.batch_id % 100 == 0:\n",
        "            print \"Pass %d, Batch %d, Cost %f, %s\" % (\n",
        "                event.pass_id, event.batch_id, event.cost, event.metrics)\n",
        "\n",
        "    if isinstance(event, paddle.event.EndPass):\n",
        "        result = trainer.test(\n",
        "                    paddle.batch(\n",
        "                        paddle.dataset.imikolov.test(word_dict, N), 32))\n",
        "        print \"Pass %d, Testing metrics %s\" % (event.pass_id, result.metrics)\n",
        "        with open(\"model_%d.tar\"%event.pass_id, 'w') as f:\n",
        "            trainer.save_parameter_to_tar(f)\n",
        "\n",
        "trainer.train(\n",
        "    paddle.batch(paddle.dataset.imikolov.train(word_dict, N), 32),\n",
        "    num_passes=100,\n",
        "    event_handler=event_handler)\n"
      ],
      "outputs": [
        {
          "name": "stdout",
          "output_type": "stream",
          "text": [
            "\n"
          ]
        }
      ],
      "execution_count": 1
    },
    {
      "cell_type": "markdown",
      "metadata": {},
      "source": [
        "\n",
        "`trainer.train` will start training, the output of `event_handler` will be similar to following:\n",
        "```text\n",
        "Pass 0, Batch 0, Cost 7.870579, {'classification_error_evaluator': 1.0}, Testing metrics {'classification_error_evaluator': 0.999591588973999}\n",
        "Pass 0, Batch 100, Cost 6.136420, {'classification_error_evaluator': 0.84375}, Testing metrics {'classification_error_evaluator': 0.8328699469566345}\n",
        "Pass 0, Batch 200, Cost 5.786797, {'classification_error_evaluator': 0.8125}, Testing metrics {'classification_error_evaluator': 0.8328542709350586}\n",
        "...\n",
        "```\n",
        "\n",
        "After 30 passes, we can get average error rate around 0.735611.\n",
        "\n",
        "## Save word dict and embedding table\n",
        "\n",
        "after training, we can save the word dict and embedding table for the future usage.\n",
        "\n"
      ]
    },
    {
      "cell_type": "code",
      "metadata": {
        "editable": true
      },
      "source": [
        "# save word dict and embedding table\n",
        "embeddings = parameters.get(\"_proj\").reshape(len(word_dict), embsize)\n",
        "save_dict_and_embedding(word_dict, embeddings)\n"
      ],
      "outputs": [
        {
          "name": "stdout",
          "output_type": "stream",
          "text": [
            "\n"
          ]
        }
      ],
      "execution_count": 1
    },
    {
      "cell_type": "markdown",
      "metadata": {},
      "source": [
        "\n",
        "\n",
        "## Model Application\n",
        "\n",
        "After the model is trained, we can load the  saved model parameters and use it for other models. We can also use the parameters in various applications.\n",
        "\n",
        "### Viewing Word Vector\n",
        "\n",
        "Parameters trained by PaddlePaddle can be viewed by `parameters.get()`. For example, we can check the word vector for word `apple`.\n",
        "\n"
      ]
    },
    {
      "cell_type": "code",
      "metadata": {
        "editable": true
      },
      "source": [
        "embeddings = parameters.get(\"_proj\").reshape(len(word_dict), embsize)\n",
        "\n",
        "print embeddings[word_dict['apple']]\n"
      ],
      "outputs": [
        {
          "name": "stdout",
          "output_type": "stream",
          "text": [
            "\n"
          ]
        }
      ],
      "execution_count": 1
    },
    {
      "cell_type": "markdown",
      "metadata": {},
      "source": [
        "\n",
        "```text\n",
        "[-0.38961065 -0.02392169 -0.00093231  0.36301503  0.13538605  0.16076435\n",
        "-0.0678709   0.1090285   0.42014077 -0.24119169 -0.31847557  0.20410083\n",
        "0.04910378  0.19021918 -0.0122014  -0.04099389 -0.16924137  0.1911236\n",
        "-0.10917275  0.13068172 -0.23079982  0.42699069 -0.27679482 -0.01472992\n",
        "0.2069038   0.09005053 -0.3282454   0.12717034 -0.24218646  0.25304323\n",
        "0.19072419 -0.24286366]\n",
        "```\n",
        "\n",
        "### Modifying Word Vector\n",
        "\n",
        "Word vectors (`embeddings`) that we get is a numpy array. We can modify this array and set it back to `parameters`.\n",
        "\n",
        "\n"
      ]
    },
    {
      "cell_type": "code",
      "metadata": {
        "editable": true
      },
      "source": [
        "def modify_embedding(emb):\n",
        "    # Add your modification here.\n",
        "    pass\n",
        "\n",
        "modify_embedding(embeddings)\n",
        "parameters.set(\"_proj\", embeddings)\n"
      ],
      "outputs": [
        {
          "name": "stdout",
          "output_type": "stream",
          "text": [
            "\n"
          ]
        }
      ],
      "execution_count": 1
    },
    {
      "cell_type": "markdown",
      "metadata": {},
      "source": [
        "\n",
        "### Calculating Cosine Similarity\n",
        "\n",
        "Cosine similarity is one way of quantifying the similarity between two vectors. The range of result is $[-1, 1]$. The bigger the value, the similar two vectors are:\n",
        "\n",
        "\n"
      ]
    },
    {
      "cell_type": "code",
      "metadata": {
        "editable": true
      },
      "source": [
        "from scipy import spatial\n",
        "\n",
        "emb_1 = embeddings[word_dict['world']]\n",
        "emb_2 = embeddings[word_dict['would']]\n",
        "\n",
        "print spatial.distance.cosine(emb_1, emb_2)\n"
      ],
      "outputs": [
        {
          "name": "stdout",
          "output_type": "stream",
          "text": [
            "\n"
          ]
        }
      ],
      "execution_count": 1
    },
    {
      "cell_type": "markdown",
      "metadata": {},
      "source": [
        "\n",
        "```text\n",
        "0.99375076448\n",
        "```\n",
        "\n",
        "## Conclusion\n",
        "\n",
        "This chapter introduces word embeddings, the relationship between language model and word embedding, and how to train neural networks to learn word embedding.\n",
        "\n",
        "In information retrieval, the relevance between the query and document keyword can be computed through the cosine similarity of their word embeddings. In grammar analysis and semantic analysis, a previously trained word embedding can initialize models for better performance. In document classification, clustering the word embedding can group synonyms in the documents. We hope that readers can use word embedding models in their work after reading this chapter.\n",
        "\n",
        "\n",
        "## References\n",
        "1. Bengio Y, Ducharme R, Vincent P, et al. [A neural probabilistic language model](http://www.jmlr.org/papers/volume3/bengio03a/bengio03a.pdf)[J]. journal of machine learning research, 2003, 3(Feb): 1137-1155.\n",
        "2. Mikolov T, Kombrink S, Deoras A, et al. [Rnnlm-recurrent neural network language modeling toolkit](http://www.fit.vutbr.cz/~imikolov/rnnlm/rnnlm-demo.pdf)[C]//Proc. of the 2011 ASRU Workshop. 2011: 196-201.\n",
        "3. Mikolov T, Chen K, Corrado G, et al. [Efficient estimation of word representations in vector space](https://arxiv.org/pdf/1301.3781.pdf)[J]. arXiv preprint arXiv:1301.3781, 2013.\n",
        "4. Maaten L, Hinton G. [Visualizing data using t-SNE](https://lvdmaaten.github.io/publications/papers/JMLR_2008.pdf)[J]. Journal of Machine Learning Research, 2008, 9(Nov): 2579-2605.\n",
        "5. https://en.wikipedia.org/wiki/Singular_value_decomposition\n",
        "\n",
        "\u003cbr/\u003e\n",
        "This tutorial is contributed by \u003ca xmlns:cc=\"http://creativecommons.org/ns#\" href=\"http://book.paddlepaddle.org\" property=\"cc:attributionName\" rel=\"cc:attributionURL\"\u003ePaddlePaddle\u003c/a\u003e, and licensed under a \u003ca rel=\"license\" href=\"http://creativecommons.org/licenses/by-sa/4.0/\"\u003eCreative Commons Attribution-ShareAlike 4.0 International License\u003c/a\u003e.\n"
      ]
    }
  ],
  "metadata": {
    "kernelspec": {
      "display_name": "Python 3",
      "language": "python",
      "name": "python3"
    },
    "language_info": {
      "codemirror_mode": {
        "name": "ipython",
        "version": 3
      },
      "file_extension": ".py",
      "mimetype": "text/x-python",
      "name": "python",
      "nbconvert_exporter": "python",
      "pygments_lexer": "ipython3",
      "version": "3.6.0"
    }
  },
  "nbformat": 4,
  "nbformat_minor": 0
}
