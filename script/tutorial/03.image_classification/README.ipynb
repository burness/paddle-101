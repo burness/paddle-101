{
  "cells": [
    {
      "cell_type": "markdown",
      "metadata": {},
      "source": [
        "\n",
        "Image Classification\n",
        "=======================\n",
        "\n",
        "The source code for this chapter is at [book/image_classification](https://github.com/PaddlePaddle/book/tree/develop/03.image_classification). First-time users, please refer to PaddlePaddle [Installation Tutorial](https://github.com/PaddlePaddle/book/blob/develop/README.md#running-the-book) for installation instructions.\n",
        "\n",
        "## Background\n",
        "\n",
        "Compared to words, images provide much more vivid and easier to understand information with an artistic sense. They are an important source for people to express and exchange ideas. In this chapter, we focus on one of the essential problems in image recognition -- image classification.\n",
        "\n",
        "Image classification is the task of distinguishing images in different categories based on their semantic meaning. It is a core problem in computer vision and is also the foundation of other higher level computer vision tasks such as object detection, image segmentation, object tracking, action recognition, etc. Image classification has applications in many areas such as face recognition, intelligent video analysis in security systems, traffic scene recognition in transportation systems, content-based image retrieval and automatic photo indexing in web services, image classification in medicine, etc.\n",
        "\n",
        "To classify an image we firstly encode the entire image using handcrafted or learned features and then determine the category using a classifier. Thus, feature extraction plays an important role in image classification. Prior to deep learning the BoW(Bag of Words) model was the most widely used method for classifying an image as well as an object. The BoW technique was introduced in Natural Language Processing where a training sentence is represented as a bag of words. In the context of image classification, the BoW model requires constructing a dictionary. The simplest BoW framework can be designed with three steps: **feature extraction**, **feature encoding** and **classifier design**.\n",
        "\n",
        "Using Deep learning, image classification can be framed as a supervised or unsupervised learning problem that uses hierarchical features automatically without any need for manually crafted features from the image. In recent years, Convolutional Neural Networks (CNNs) have made significant progress in image classification. CNNs use raw image pixels as input, extract low-level and high-level abstract features through convolution operations, and directly output the classification results from the model. This style of end-to-end learning has lead to not only increased performance but also wider adoption various applications.\n",
        "\n",
        "In this chapter, we introduce deep-learning-based image classification methods and explain how to train a CNN model using PaddlePaddle.\n",
        "\n",
        "## Demonstration\n",
        "\n",
        "An image can be classified by a general as well as fine-grained image classifier.\n",
        "\n",
        "\n",
        "Figure 1 shows the results of a general image classifier -- the trained model can correctly recognize the main objects in the images.\n",
        "\n",
        "\u003cp align=\"center\"\u003e\n",
        "\u003cimg src=\"image/dog_cat.png \"  width=\"350\" \u003e\u003cbr/\u003e\n",
        "Figure 1. General image classification\n",
        "\u003c/p\u003e\n",
        "\n",
        "\n",
        "Figure 2 shows the results of a fine-grained image classifier. This task of flower recognition requires correctly recognizing of the flower's categories.\n",
        "\n",
        "\u003cp align=\"center\"\u003e\n",
        "\u003cimg src=\"image/flowers.png\" width=\"400\" \u003e\u003cbr/\u003e\n",
        "Figure 2. Fine-grained image classification\n",
        "\u003c/p\u003e\n",
        "\n",
        "\n",
        "A good model should recognize objects of different categories correctly. The results of such a model should not vary due to viewpoint variation, illumination conditions, object distortion or occlusion.\n",
        "Figure 3 shows some images with various disturbances. A good model should classify these images correctly like humans.\n",
        "\n",
        "\u003cp align=\"center\"\u003e\n",
        "\u003cimg src=\"image/variations_en.png\" width=\"550\" \u003e\u003cbr/\u003e\n",
        "Figure 3. Disturbed images [22]\n",
        "\u003c/p\u003e\n",
        "\n",
        "## Model Overview\n",
        "\n",
        "A large amount of research in image classification is built upon public datasets such as [PASCAL VOC](http://host.robots.ox.ac.uk/pascal/VOC/), [ImageNet](http://image-net.org/) etc. Many image classification algorithms are usually evaluated and compared on top of these datasets. PASCAL VOC is a computer vision competition started in 2005, and ImageNet is a dataset for Large Scale Visual Recognition Challenge (ILSVRC) started in 2010. In this chapter, we introduce some image classification models from the submissions to these competitions.\n",
        "\n",
        "Before 2012, traditional image classification was accomplished with the three steps described in the background section. A complete model construction usually involves the following stages: low-level feature extraction, feature encoding, spatial constraint or feature clustering, classifier design, model ensemble.\n",
        "\n",
        "  1). **Low-level feature extraction**: This step extracts large amounts of local features according to fixed strides and scales. Popular local features include Scale-Invariant Feature Transform (SIFT)[1], Histogram of Oriented Gradient(HOG)[2], Local Binary Pattern(LBP)[3], etc. A common practice is to employ multiple feature descriptors in order to avoid missing a lot of information.\n",
        "\n",
        "  2). **Feature encoding**: Low-level features contain a large amount of redundancy and noise. In order to improve the robustness of features, it is necessary to employ a feature transformation to encode low-level features. This is called feature encoding. Common feature encoding methods include vector quantization [4], sparse coding [5], locality-constrained linear coding [6], Fisher vector encoding [7], etc.\n",
        "\n",
        "  3). **Spatial constraint**: Spatial constraint or feature clustering is usually adopted after feature encoding for extracting the maximum or average of each dimension in the spatial domain. Pyramid feature matching--a popular feature clustering method--divides an image uniformly into patches and performs feature clustering in each patch.\n",
        "\n",
        "  4). **Classification**: In the above steps an image can be described by a vector of fixed dimension. Then a classifier can be used to classify the image into categories. Common classifiers include Support Vector Machine(SVM), random forest etc. Kernel SVM is the most popular classifier and has achieved very good performance in traditional image classification tasks.\n",
        "\n",
        "This method has been used widely as image classification algorithm in PASCAL VOC [18]. NEC Labs(http://www.nec-labs.com/) won the championship by employing SIFT and LBP features, two non-linear encoders and SVM in ILSVRC 2010 [8].\n",
        "\n",
        "The CNN model--AlexNet proposed by Alex Krizhevsky et al.[9], made a breakthrough in ILSVRC 2012. It dramatically outperformed traditional methods and won the ILSVRC championship in 2012. This was also the first time that a deep learning method was used for large-scale image classification. Since AlexNet, a series of CNN models have been proposed that have advanced the state of the art steadily on Imagenet as shown in Figure 4. With deeper and more sophisticated architectures, Top-5 error rate is getting lower and lower (to around 3.5%). The error rate of human raters on the same Imagenet dataset is 5.1%, which means that the image classification capability of a deep learning model has surpassed human raters.\n",
        "\n",
        "\u003cp align=\"center\"\u003e\n",
        "\u003cimg src=\"image/ilsvrc.png\" width=\"500\" \u003e\u003cbr/\u003e\n",
        "Figure 4. Top-5 error rates on ILSVRC image classification\n",
        "\u003c/p\u003e\n",
        "\n",
        "### CNN\n",
        "\n",
        "Traditional CNNs consist of convolutional and fully-connected layers and use the softmax multi-category classifier with the cross-entropy loss function. Figure 5 shows a typical CNN. We first introduce the common components of a CNN.\n",
        "\n",
        "\u003cp align=\"center\"\u003e\n",
        "\u003cimg src=\"image/lenet_en.png\"\u003e\u003cbr/\u003e\n",
        "Figure 5. A CNN example [20]\n",
        "\u003c/p\u003e\n",
        "\n",
        "- convolutional layer: this layer uses the convolution operation to extract (low-level and high-level) features and to discover local correlation and spatial invariance.\n",
        "\n",
        "- pooling layer: this layer down samples feature maps by extracting local max (max-pooling) or average (avg-pooling) value of each patch in the feature map. Down-sampling is a common operation in image processing and is used to filter out high-frequency information.\n",
        "\n",
        "- fully-connected layer: this layer fully connects neurons between two adjacent layers.\n",
        "\n",
        "- non-linear activation: Convolutional and fully-connected layers are usually followed by some non-linear activation layers. Non-linearities enhance the expression capability of the network. Some examples of non-linear activation functions are Sigmoid, Tanh and ReLU. ReLU is the most commonly used activation function in CNN.\n",
        "\n",
        "- Dropout [10]: At each training stage, individual nodes are dropped out of the network with a certain probability. This improves the network's ability to generalize and avoids overfitting.\n",
        "\n",
        "Parameter updates at each layer during training causes input layer distributions to change and in turn requires hyper-parameters to be carefully tuned. In 2015, Sergey Ioffe and Christian Szegedy proposed a Batch Normalization (BN) algorithm [14], which normalizes the features of each batch in a layer, and enables relatively stable distribution in each layer. Not only does BN algorithm act as a regularizer, but also reduces the need for careful hyper-parameter design. Experiments demonstrate that BN algorithm accelerates the training convergence and has been widely used in later deeper models.\n",
        "\n",
        "In the following sections, we will introduce the following network architectures - VGG, GoogleNet and ResNets.\n",
        "\n",
        "### VGG\n",
        "\n",
        "The Oxford Visual Geometry Group (VGG) proposed the VGG network in ILSVRC 2014 [11]. This model is deeper and wider than previous neural architectures. It consists of five main groups of convolution operations. Adjacent convolution groups are connected via max-pooling layers. Each group contains a series of 3x3 convolutional layers (i.e. kernels). The number of convolution kernels stays the same within the group and increases from 64 in the first group to 512 in the last one. The total number of learnable layers could be 11, 13, 16, or 19 depending on the number of convolutional layers in each group. Figure 6 illustrates a 16-layer VGG. The neural architecture of VGG is relatively simple and has been adopted by many papers such as the first one that surpassed human-level performance on ImageNet [19].\n",
        "\n",
        "\u003cp align=\"center\"\u003e\n",
        "\u003cimg src=\"image/vgg16.png\" width=\"750\" \u003e\u003cbr/\u003e\n",
        "Figure 6. VGG16 model for ImageNet\n",
        "\u003c/p\u003e\n",
        "\n",
        "### GoogleNet\n",
        "\n",
        "GoogleNet [12] won the ILSVRC championship in 2014. GoogleNet borrowed some ideas from the Network in Network(NIN) model [13] and is built on the Inception blocks. Let us first familiarize ourselves with these first.\n",
        "\n",
        "The two main characteristics of the NIN model are:\n",
        "\n",
        "1) A single-layer convolutional network is replaced with a Multi-Layer Perceptron Convolution (MLPconv). MLPconv is a tiny multi-layer convolutional network. It enhances non-linearity by adding several 1x1 convolutional layers after linear ones.\n",
        "\n",
        "2) In traditional CNNs, the last fewer layers are usually fully-connected with a large number of parameters. In contrast, NIN replaces all fully-connected layers with convolutional layers with feature maps of the same size as the category dimension and a global average pooling. This replacement of fully-connected layers significantly reduces the number of parameters.\n",
        "\n",
        "Figure 7 depicts two Inception blocks. Figure 7(a) is the simplest design. The output is a concatenation of features from three convolutional layers and one pooling layer. The disadvantage of this design is that the pooling layer does not change the number of filters and leads to an increase in the number of outputs. After several of such blocks, the number of outputs and parameters become larger and larger and lead to higher computation complexity. To overcome this drawback, the Inception block in Figure 7(b) employs three 1x1 convolutional layers. These reduce dimensions or the number of channels but improve the non-linearity of the network.\n",
        "\n",
        "\u003cp align=\"center\"\u003e\n",
        "\u003cimg src=\"image/inception_en.png\" width=\"800\" \u003e\u003cbr/\u003e\n",
        "Figure 7. Inception block\n",
        "\u003c/p\u003e\n",
        "\n",
        "GoogleNet consists of multiple stacked Inception blocks followed by an avg-pooling layer as in NIN instead of traditional fully connected layers. The difference between GoogleNet and NIN is that GoogleNet adds a fully connected layer after avg-pooling layer to output a vector of category size. Besides these two characteristics, the features from middle layers of a GoogleNet are also very discriminative. Therefore, GoogeleNet inserts two auxiliary classifiers in the model for enhancing gradient and regularization when doing backpropagation. The loss function of the whole network is the weighted sum of these three classifiers.\n",
        "\n",
        "Figure 8 illustrates the neural architecture of a GoogleNet which consists of 22 layers: it starts with three regular convolutional layers followed by three groups of sub-networks -- the first group contains two Inception blocks, the second group has five, and the third group has two. It ends with an average pooling and a fully-connected layer.\n",
        "\n",
        "\u003cp align=\"center\"\u003e\n",
        "\u003cimg src=\"image/googlenet.jpeg\" \u003e\u003cbr/\u003e\n",
        "Figure 8. GoogleNet[12]\n",
        "\u003c/p\u003e\n",
        "\n",
        "The above model is the first version of GoogleNet or GoogelNet-v1. GoogleNet-v2 [14] introduced BN layer; GoogleNet-v3 [16] further split some convolutional layers, which increases non-linearity and network depth; GoogelNet-v4 [17] leads to the design idea of ResNet which will be introduced in the next section. The evolution from v1 to v4 improved the accuracy rate consistently. We will not go into details of the neural architectures of v2 to v4.\n",
        "\n",
        "### ResNet\n",
        "\n",
        "Residual Network(ResNet)[15] won the 2015 championship on three ImageNet competitions -- image classification, object localization, and object detection. The main challenge in training deeper networks is that accuracy degrades with network depth. The authors of ResNet proposed a residual learning approach to ease the difficulty of training deeper networks. Based on the design ideas of BN, small convolutional kernels, full convolutional network, ResNets reformulate the layers as residual blocks, with each block containing two branches, one directly connecting input to the output, the other performing two to three convolutions and calculating the residual function with reference to the layer's inputs. The outputs of these two branches are then added up.\n",
        "\n",
        "Figure 9 illustrates the ResNet architecture. To the left is the basic building block, it consists of two 3x3 convolutional layers of the same channels. To the right is a Bottleneck block. The bottleneck is a 1x1 convolutional layer used to reduce dimension from 256 to 64. The other 1x1 convolutional layer is used to increase dimension from 64 to 256. Thus, the number of input and output channels of the middle 3x3 convolutional layer is 64, which is relatively small.\n",
        "\n",
        "\u003cp align=\"center\"\u003e\n",
        "\u003cimg src=\"image/resnet_block.jpg\" width=\"400\"\u003e\u003cbr/\u003e\n",
        "Figure 9. Residual block\n",
        "\u003c/p\u003e\n",
        "\n",
        "Figure 10 illustrates ResNets with 50, 101, 152 layers, respectively. All three networks use bottleneck blocks of different numbers of repetitions. ResNet converges very fast and can be trained with hundreds or thousands of layers.\n",
        "\n",
        "\u003cp align=\"center\"\u003e\n",
        "\u003cimg src=\"image/resnet.png\"\u003e\u003cbr/\u003e\n",
        "Figure 10. ResNet model for ImageNet\n",
        "\u003c/p\u003e\n",
        "\n",
        "\n",
        "## Dataset\n",
        "\n",
        "Commonly used public datasets for image classification are [CIFAR](https://www.cs.toronto.edu/~kriz/cifar.html), [ImageNet](http://image-net.org/), [COCO](http://mscoco.org/), etc. Those used for fine-grained image classification are [CUB-200-2011](http://www.vision.caltech.edu/visipedia/CUB-200-2011.html), [Stanford Dog](http://vision.stanford.edu/aditya86/ImageNetDogs/), [Oxford-flowers](http://www.robots.ox.ac.uk/~vgg/data/flowers/), etc. Among these, the ImageNet dataset is the largest. Most research results are reported on ImageNet as mentioned in the Model Overview section. Since 2010, the ImageNet dataset has gone through some changes. The commonly used ImageNet-2012 dataset contains 1000 categories. There are 1,281,167 training images, ranging from 732 to 1200 images per category, and 50,000 validation images with 50 images per category in average.\n",
        "\n",
        "Since ImageNet is too large to be downloaded and trained efficiently, we use [CIFAR-10](https://www.cs.toronto.edu/~kriz/cifar.html) in this tutorial. The CIFAR-10 dataset consists of 60000 32x32 color images in 10 classes, with 6000 images per class. There are 50000 training images and 10000 test images. Figure 11 shows all the classes in CIFAR-10 as well as 10 images randomly sampled from each category.\n",
        "\n",
        "\u003cp align=\"center\"\u003e\n",
        "\u003cimg src=\"image/cifar.png\" width=\"350\"\u003e\u003cbr/\u003e\n",
        "Figure 11. CIFAR10 dataset[21]\n",
        "\u003c/p\u003e\n",
        "\n",
        " `paddle.datasets` package encapsulates multiple public datasets, including `cifar`, `imdb`, `mnist`, `moivelens` and `wmt14`, etc. There's no need to manually download and preprocess CIFAR-10.\n",
        "\n",
        "After running the command `python train.py`, training will start immediately. The following sections will describe in details.\n",
        "\n",
        "## Model Structure\n",
        "\n",
        "### Initialize PaddlePaddle\n",
        "\n",
        "We must import and initialize PaddlePaddle (enable/disable GPU, set the number of trainers, etc).\n",
        "\n"
      ]
    },
    {
      "cell_type": "code",
      "metadata": {
        "editable": true
      },
      "source": [
        "import sys\n",
        "import paddle.v2 as paddle\n",
        "from vgg import vgg_bn_drop\n",
        "from resnet import resnet_cifar10\n",
        "\n",
        "# PaddlePaddle init\n",
        "paddle.init(use_gpu=False, trainer_count=1)\n"
      ],
      "outputs": [
        {
          "name": "stdout",
          "output_type": "stream",
          "text": [
            "\n"
          ]
        }
      ],
      "execution_count": 1
    },
    {
      "cell_type": "markdown",
      "metadata": {},
      "source": [
        "Now we are going to walk you through the implementations of the VGG and ResNet.\n",
        "\n",
        "### VGG\n",
        "\n",
        "Let's start with the VGG model. Since the image size and amount of CIFAR10 are relatively small comparing to ImageNet, we use a small version of VGG network for CIFAR10. Convolution groups incorporate BN and dropout operations.\n",
        "\n",
        "1. Define input data and its dimension\n",
        "\n",
        "    The input to the network is defined as `paddle.layer.data`, or image pixels in the context of image classification. The images in CIFAR10 are 32x32 color images of three channels. Therefore, the size of the input data is 3072 (3x32x32), and the number of categories is 10.\n",
        "\n"
      ]
    },
    {
      "cell_type": "code",
      "metadata": {
        "editable": true
      },
      "source": [
        "    datadim = 3 * 32 * 32\n",
        "    classdim = 10\n",
        "    image = paddle.layer.data(\n",
        "        name=\"image\", type=paddle.data_type.dense_vector(datadim))\n"
      ],
      "outputs": [
        {
          "name": "stdout",
          "output_type": "stream",
          "text": [
            "\n"
          ]
        }
      ],
      "execution_count": 1
    },
    {
      "cell_type": "markdown",
      "metadata": {},
      "source": [
        "\n",
        "2. Define VGG main module\n",
        "\n"
      ]
    },
    {
      "cell_type": "code",
      "metadata": {
        "editable": true
      },
      "source": [
        "    net = vgg_bn_drop(image)\n"
      ],
      "outputs": [
        {
          "name": "stdout",
          "output_type": "stream",
          "text": [
            "\n"
          ]
        }
      ],
      "execution_count": 1
    },
    {
      "cell_type": "markdown",
      "metadata": {},
      "source": [
        "    The input to VGG main module is from the data layer. `vgg_bn_drop` defines a 16-layer VGG network, with each convolutional layer followed by BN and dropout layers. Here is the definition in detail:\n",
        "\n"
      ]
    },
    {
      "cell_type": "code",
      "metadata": {
        "editable": true
      },
      "source": [
        "    def vgg_bn_drop(input):\n",
        "        def conv_block(ipt, num_filter, groups, dropouts, num_channels=None):\n",
        "            return paddle.networks.img_conv_group(\n",
        "                input=ipt,\n",
        "                num_channels=num_channels,\n",
        "                pool_size=2,\n",
        "                pool_stride=2,\n",
        "                conv_num_filter=[num_filter] * groups,\n",
        "                conv_filter_size=3,\n",
        "                conv_act=paddle.activation.Relu(),\n",
        "                conv_with_batchnorm=True,\n",
        "                conv_batchnorm_drop_rate=dropouts,\n",
        "                pool_type=paddle.pooling.Max())\n",
        "\n",
        "        conv1 = conv_block(input, 64, 2, [0.3, 0], 3)\n",
        "        conv2 = conv_block(conv1, 128, 2, [0.4, 0])\n",
        "        conv3 = conv_block(conv2, 256, 3, [0.4, 0.4, 0])\n",
        "        conv4 = conv_block(conv3, 512, 3, [0.4, 0.4, 0])\n",
        "        conv5 = conv_block(conv4, 512, 3, [0.4, 0.4, 0])\n",
        "\n",
        "        drop = paddle.layer.dropout(input=conv5, dropout_rate=0.5)\n",
        "        fc1 = paddle.layer.fc(input=drop, size=512, act=paddle.activation.Linear())\n",
        "        bn = paddle.layer.batch_norm(\n",
        "            input=fc1,\n",
        "            act=paddle.activation.Relu(),\n",
        "            layer_attr=paddle.attr.Extra(drop_rate=0.5))\n",
        "        fc2 = paddle.layer.fc(input=bn, size=512, act=paddle.activation.Linear())\n",
        "        return fc2\n"
      ],
      "outputs": [
        {
          "name": "stdout",
          "output_type": "stream",
          "text": [
            "\n"
          ]
        }
      ],
      "execution_count": 1
    },
    {
      "cell_type": "markdown",
      "metadata": {},
      "source": [
        "\n",
        "    2.1. Firstly, it defines a convolution block or conv_block. The default convolution kernel is 3x3, and the default pooling size is 2x2 with stride 2. Dropout specifies the probability in dropout operation. Function `img_conv_group` is defined in `paddle.networks` consisting of a series of `Conv-\u003eBN-\u003eReLu-\u003eDropout` and a `Pooling`.\n",
        "\n",
        "    2.2. Five groups of convolutions. The first two groups perform two convolutions, while the last three groups perform three convolutions. The dropout rate of the last convolution in each group is set to 0, which means there is no dropout for this layer.\n",
        "\n",
        "    2.3. The last two layers are fully-connected layers of dimension 512.\n",
        "\n",
        "3. Define Classifier\n",
        "\n",
        "    The above VGG network extracts high-level features and maps them to a vector of the same size as the categories. Softmax function or classifier is then used for calculating the probability of the image belonging to each category.\n",
        "\n"
      ]
    },
    {
      "cell_type": "code",
      "metadata": {
        "editable": true
      },
      "source": [
        "    out = paddle.layer.fc(input=net,\n",
        "                          size=classdim,\n",
        "                          act=paddle.activation.Softmax())\n"
      ],
      "outputs": [
        {
          "name": "stdout",
          "output_type": "stream",
          "text": [
            "\n"
          ]
        }
      ],
      "execution_count": 1
    },
    {
      "cell_type": "markdown",
      "metadata": {},
      "source": [
        "\n",
        "4. Define Loss Function and Outputs\n",
        "\n",
        "    In the context of supervised learning, labels of training images are defined in `paddle.layer.data` as well. During training, the cross-entropy loss function is used and the loss is the output of the network. During testing, the outputs are the probabilities calculated in the classifier.\n",
        "\n"
      ]
    },
    {
      "cell_type": "code",
      "metadata": {
        "editable": true
      },
      "source": [
        "    lbl = paddle.layer.data(\n",
        "        name=\"label\", type=paddle.data_type.integer_value(classdim))\n",
        "    cost = paddle.layer.classification_cost(input=out, label=lbl)\n"
      ],
      "outputs": [
        {
          "name": "stdout",
          "output_type": "stream",
          "text": [
            "\n"
          ]
        }
      ],
      "execution_count": 1
    },
    {
      "cell_type": "markdown",
      "metadata": {},
      "source": [
        "\n",
        "### ResNet\n",
        "\n",
        "The first, third and fourth steps of a ResNet are the same as a VGG. The second step is the main module of ResNet.\n",
        "\n"
      ]
    },
    {
      "cell_type": "code",
      "metadata": {
        "editable": true
      },
      "source": [
        "net = resnet_cifar10(image, depth=56)\n"
      ],
      "outputs": [
        {
          "name": "stdout",
          "output_type": "stream",
          "text": [
            "\n"
          ]
        }
      ],
      "execution_count": 1
    },
    {
      "cell_type": "markdown",
      "metadata": {},
      "source": [
        "\n",
        "Here are some basic functions used in `resnet_cifar10`:\n",
        "\n",
        "  - `conv_bn_layer` : convolutional layer followed by BN.\n",
        "  - `shortcut` : the shortcut branch in a residual block. There are two kinds of shortcuts: 1x1 convolution used when the number of channels between input and output is different; direct connection used otherwise.\n",
        "\n",
        "  - `basicblock` : a basic residual module as shown in the left of Figure 9, it consists of two sequential 3x3 convolutions and one \"shortcut\" branch.\n",
        "  - `bottleneck` : a bottleneck module as shown in the right of Figure 9, it consists of two 1x1 convolutions with one 3x3 convolution in between branch and a \"shortcut\" branch.\n",
        "  - `layer_warp` : a group of residual modules consisting of several stacking blocks. In each group, the sliding window size of the first residual block could be different from the rest of blocks, in order to reduce the size of feature maps along horizontal and vertical directions.\n",
        "\n"
      ]
    },
    {
      "cell_type": "code",
      "metadata": {
        "editable": true
      },
      "source": [
        "def conv_bn_layer(input,\n",
        "                  ch_out,\n",
        "                  filter_size,\n",
        "                  stride,\n",
        "                  padding,\n",
        "                  active_type=paddle.activation.Relu(),\n",
        "                  ch_in=None):\n",
        "    tmp = paddle.layer.img_conv(\n",
        "        input=input,\n",
        "        filter_size=filter_size,\n",
        "        num_channels=ch_in,\n",
        "        num_filters=ch_out,\n",
        "        stride=stride,\n",
        "        padding=padding,\n",
        "        act=paddle.activation.Linear(),\n",
        "        bias_attr=False)\n",
        "    return paddle.layer.batch_norm(input=tmp, act=active_type)\n",
        "\n",
        "def shortcut(ipt, n_in, n_out, stride):\n",
        "    if n_in != n_out:\n",
        "        return conv_bn_layer(ipt, n_out, 1, stride, 0,\n",
        "                             paddle.activation.Linear())\n",
        "    else:\n",
        "        return ipt\n",
        "\n",
        "def basicblock(ipt, ch_out, stride):\n",
        "    ch_in = ch_out * 2\n",
        "    tmp = conv_bn_layer(ipt, ch_out, 3, stride, 1)\n",
        "    tmp = conv_bn_layer(tmp, ch_out, 3, 1, 1, paddle.activation.Linear())\n",
        "    short = shortcut(ipt, ch_in, ch_out, stride)\n",
        "    return paddle.layer.addto(input=[tmp, short], act=paddle.activation.Relu())\n",
        "\n",
        "def layer_warp(block_func, ipt, features, count, stride):\n",
        "    tmp = block_func(ipt, features, stride)\n",
        "    for i in range(1, count):\n",
        "        tmp = block_func(tmp, features, 1)\n",
        "    return tmp\n"
      ],
      "outputs": [
        {
          "name": "stdout",
          "output_type": "stream",
          "text": [
            "\n"
          ]
        }
      ],
      "execution_count": 1
    },
    {
      "cell_type": "markdown",
      "metadata": {},
      "source": [
        "\n",
        "The following are the components of `resnet_cifar10`:\n",
        "\n",
        "1. The lowest level is `conv_bn_layer`.\n",
        "2. The middle level consists of three `layer_warp`, each of which uses the left residual block in Figure 9.\n",
        "3. The last level is average pooling layer.\n",
        "\n",
        "Note: besides the first convolutional layer and the last fully-connected layer, the total number of layers in three `layer_warp` should be dividable by 6, that is the depth of `resnet_cifar10` should satisfy $(depth - 2) % 6 == 0$.\n",
        "\n"
      ]
    },
    {
      "cell_type": "code",
      "metadata": {
        "editable": true
      },
      "source": [
        "def resnet_cifar10(ipt, depth=32):\n",
        "    # depth should be one of 20, 32, 44, 56, 110, 1202\n",
        "    assert (depth - 2) % 6 == 0\n",
        "    n = (depth - 2) / 6\n",
        "    nStages = {16, 64, 128}\n",
        "    conv1 = conv_bn_layer(\n",
        "        ipt, ch_in=3, ch_out=16, filter_size=3, stride=1, padding=1)\n",
        "    res1 = layer_warp(basicblock, conv1, 16, n, 1)\n",
        "    res2 = layer_warp(basicblock, res1, 32, n, 2)\n",
        "    res3 = layer_warp(basicblock, res2, 64, n, 2)\n",
        "    pool = paddle.layer.img_pool(\n",
        "        input=res3, pool_size=8, stride=1, pool_type=paddle.pooling.Avg())\n",
        "    return pool\n"
      ],
      "outputs": [
        {
          "name": "stdout",
          "output_type": "stream",
          "text": [
            "\n"
          ]
        }
      ],
      "execution_count": 1
    },
    {
      "cell_type": "markdown",
      "metadata": {},
      "source": [
        "\n",
        "## Model Training\n",
        "\n",
        "### Define Parameters\n",
        "\n",
        "Firstly, we create the model parameters according to the previous model configuration `cost`.\n",
        "\n"
      ]
    },
    {
      "cell_type": "code",
      "metadata": {
        "editable": true
      },
      "source": [
        "# Create parameters\n",
        "parameters = paddle.parameters.create(cost)\n"
      ],
      "outputs": [
        {
          "name": "stdout",
          "output_type": "stream",
          "text": [
            "\n"
          ]
        }
      ],
      "execution_count": 1
    },
    {
      "cell_type": "markdown",
      "metadata": {},
      "source": [
        "\n",
        "### Create Trainer\n",
        "\n",
        "Before creating a training module, it is necessary to set the algorithm.\n",
        "Here we specify `Momentum` optimization algorithm via `paddle.optimizer`.\n",
        "\n"
      ]
    },
    {
      "cell_type": "code",
      "metadata": {
        "editable": true
      },
      "source": [
        "# Create optimizer\n",
        "momentum_optimizer = paddle.optimizer.Momentum(\n",
        "    momentum=0.9,\n",
        "    regularization=paddle.optimizer.L2Regularization(rate=0.0002 * 128),\n",
        "    learning_rate=0.1 / 128.0,\n",
        "    learning_rate_decay_a=0.1,\n",
        "    learning_rate_decay_b=50000 * 100,\n",
        "    learning_rate_schedule='discexp')\n",
        "\n",
        "# Create trainer\n",
        "trainer = paddle.trainer.SGD(cost=cost,\n",
        "                             parameters=parameters,\n",
        "                             update_equation=momentum_optimizer)\n"
      ],
      "outputs": [
        {
          "name": "stdout",
          "output_type": "stream",
          "text": [
            "\n"
          ]
        }
      ],
      "execution_count": 1
    },
    {
      "cell_type": "markdown",
      "metadata": {},
      "source": [
        "\n",
        "The learning rate adjustment policy can be defined with variables `learning_rate_decay_a`($a$), `learning_rate_decay_b`($b$) and `learning_rate_schedule`. In this example, discrete exponential method is used for adjusting learning rate. The formula is as follows,\n",
        "$$  lr = lr_{0} * a^ {\\lfloor \\frac{n}{ b}\\rfloor} $$\n",
        "where $n$ is the number of processed samples, $lr_{0}$ is the learning_rate.\n",
        "\n",
        "### Training\n",
        "\n",
        "`cifar.train10()` will yield records during each pass, after shuffling, a batch input is generated for training.\n",
        "\n"
      ]
    },
    {
      "cell_type": "code",
      "metadata": {
        "editable": true
      },
      "source": [
        "reader=paddle.batch(\n",
        "    paddle.reader.shuffle(\n",
        "        paddle.dataset.cifar.train10(), buf_size=50000),\n",
        "        batch_size=128)\n"
      ],
      "outputs": [
        {
          "name": "stdout",
          "output_type": "stream",
          "text": [
            "\n"
          ]
        }
      ],
      "execution_count": 1
    },
    {
      "cell_type": "markdown",
      "metadata": {},
      "source": [
        "\n",
        "`feeding` is devoted to specifying the correspondence between each yield record and `paddle.layer.data`. For instance,\n",
        " the first column of data generated by `cifar.train10()` corresponds to image layer's feature.\n",
        "\n"
      ]
    },
    {
      "cell_type": "code",
      "metadata": {
        "editable": true
      },
      "source": [
        "feeding={'image': 0,\n",
        "         'label': 1}\n"
      ],
      "outputs": [
        {
          "name": "stdout",
          "output_type": "stream",
          "text": [
            "\n"
          ]
        }
      ],
      "execution_count": 1
    },
    {
      "cell_type": "markdown",
      "metadata": {},
      "source": [
        "\n",
        "Callback function `event_handler` will be called during training when a pre-defined event happens.\n",
        "\n",
        "`event_handler_plot`is used to plot a figure like below：\n",
        "\n",
        "![png](./image/train_and_test.png)\n",
        "\n"
      ]
    },
    {
      "cell_type": "code",
      "metadata": {
        "editable": true
      },
      "source": [
        "from paddle.v2.plot import Ploter\n",
        "\n",
        "train_title = \"Train cost\"\n",
        "test_title = \"Test cost\"\n",
        "cost_ploter = Ploter(train_title, test_title)\n",
        "\n",
        "step = 0\n",
        "def event_handler_plot(event):\n",
        "    global step\n",
        "    if isinstance(event, paddle.event.EndIteration):\n",
        "        if step % 1 == 0:\n",
        "            cost_ploter.append(train_title, step, event.cost)\n",
        "            cost_ploter.plot()\n",
        "        step += 1\n",
        "    if isinstance(event, paddle.event.EndPass):\n",
        "        result = trainer.test(\n",
        "            reader=paddle.batch(\n",
        "                paddle.dataset.cifar.test10(), batch_size=128),\n",
        "            feeding=feeding)\n",
        "        cost_ploter.append(test_title, step, result.cost)\n"
      ],
      "outputs": [
        {
          "name": "stdout",
          "output_type": "stream",
          "text": [
            "\n"
          ]
        }
      ],
      "execution_count": 1
    },
    {
      "cell_type": "markdown",
      "metadata": {},
      "source": [
        "\n",
        "`event_handler` is used to plot some text data when training.\n",
        "\n"
      ]
    },
    {
      "cell_type": "code",
      "metadata": {
        "editable": true
      },
      "source": [
        "# event handler to track training and testing process\n",
        "def event_handler(event):\n",
        "    if isinstance(event, paddle.event.EndIteration):\n",
        "        if event.batch_id % 100 == 0:\n",
        "            print \"\\nPass %d, Batch %d, Cost %f, %s\" % (\n",
        "                event.pass_id, event.batch_id, event.cost, event.metrics)\n",
        "        else:\n",
        "            sys.stdout.write('.')\n",
        "            sys.stdout.flush()\n",
        "    if isinstance(event, paddle.event.EndPass):\n",
        "        # save parameters\n",
        "        with open('params_pass_%d.tar' % event.pass_id, 'w') as f:\n",
        "            trainer.save_parameter_to_tar(f)\n",
        "\n",
        "        result = trainer.test(\n",
        "            reader=paddle.batch(\n",
        "                paddle.dataset.cifar.test10(), batch_size=128),\n",
        "            feeding=feeding)\n",
        "        print \"\\nTest with Pass %d, %s\" % (event.pass_id, result.metrics)\n"
      ],
      "outputs": [
        {
          "name": "stdout",
          "output_type": "stream",
          "text": [
            "\n"
          ]
        }
      ],
      "execution_count": 1
    },
    {
      "cell_type": "markdown",
      "metadata": {},
      "source": [
        "\n",
        "Finally, we can invoke `trainer.train` to start training:\n",
        "\n"
      ]
    },
    {
      "cell_type": "code",
      "metadata": {
        "editable": true
      },
      "source": [
        "trainer.train(\n",
        "    reader=reader,\n",
        "    num_passes=200,\n",
        "    event_handler=event_handler_plot,\n",
        "    feeding=feeding)\n"
      ],
      "outputs": [
        {
          "name": "stdout",
          "output_type": "stream",
          "text": [
            "\n"
          ]
        }
      ],
      "execution_count": 1
    },
    {
      "cell_type": "markdown",
      "metadata": {},
      "source": [
        "\n",
        "Here is an example log after training for one pass. The average error rates are 0.6875 on the training set and 0.8852 on the validation set.\n",
        "\n",
        "```text\n",
        "Pass 0, Batch 0, Cost 2.473182, {'classification_error_evaluator': 0.9140625}\n",
        "...................................................................................................\n",
        "Pass 0, Batch 100, Cost 1.913076, {'classification_error_evaluator': 0.78125}\n",
        "...................................................................................................\n",
        "Pass 0, Batch 200, Cost 1.783041, {'classification_error_evaluator': 0.7421875}\n",
        "...................................................................................................\n",
        "Pass 0, Batch 300, Cost 1.668833, {'classification_error_evaluator': 0.6875}\n",
        "..........................................................................................\n",
        "Test with Pass 0, {'classification_error_evaluator': 0.885200023651123}\n",
        "```\n",
        "\n",
        "Figure 12 shows the curve of training error rate, which indicates it converges at Pass 200 with error rate 8.54%.\n",
        "\u003cp align=\"center\"\u003e\n",
        "\u003cimg src=\"image/plot_en.png\" width=\"400\" \u003e\u003cbr/\u003e\n",
        "Figure 12. The error rate of VGG model on CIFAR10\n",
        "\u003c/p\u003e\n",
        "\n",
        "\n",
        "\n",
        "## Application\n",
        "\n",
        "After training is completed, users can use the trained model to classify images. The following code shows how to infer through `paddle.infer` interface. You can uncomment some lines from below to change the model name.\n",
        "\n"
      ]
    },
    {
      "cell_type": "code",
      "metadata": {
        "editable": true
      },
      "source": [
        "from PIL import Image\n",
        "import numpy as np\n",
        "import os\n",
        "def load_image(file):\n",
        "    im = Image.open(file)\n",
        "    im = im.resize((32, 32), Image.ANTIALIAS)\n",
        "    im = np.array(im).astype(np.float32)\n",
        "    # The storage order of the loaded image is W(widht),\n",
        "    # H(height), C(channel). PaddlePaddle requires\n",
        "    # the CHW order, so transpose them.\n",
        "    im = im.transpose((2, 0, 1)) # CHW\n",
        "    # In the training phase, the channel order of CIFAR\n",
        "    # image is B(Blue), G(green), R(Red). But PIL open\n",
        "    # image in RGB mode. It must swap the channel order.\n",
        "    im = im[(2, 1, 0),:,:] # BGR\n",
        "    im = im.flatten()\n",
        "    im = im / 255.0\n",
        "    return im\n",
        "test_data = []\n",
        "cur_dir = os.getcwd()\n",
        "test_data.append((load_image(cur_dir + '/image/dog.png'),))\n",
        "\n",
        "# users can remove the comments and change the model name\n",
        "# with open('params_pass_50.tar', 'r') as f:\n",
        "#    parameters = paddle.parameters.Parameters.from_tar(f)\n",
        "\n",
        "probs = paddle.infer(\n",
        "    output_layer=out, parameters=parameters, input=test_data)\n",
        "lab = np.argsort(-probs) # probs and lab are the results of one batch data\n",
        "print \"Label of image/dog.png is: %d\" % lab[0][0]\n"
      ],
      "outputs": [
        {
          "name": "stdout",
          "output_type": "stream",
          "text": [
            "\n"
          ]
        }
      ],
      "execution_count": 1
    },
    {
      "cell_type": "markdown",
      "metadata": {},
      "source": [
        "\n",
        "\n",
        "## Conclusion\n",
        "\n",
        "Traditional image classification methods involve multiple stages of processing, which has to utilize complex frameworks. Contrarily, CNN models can be trained end-to-end with a significant increase in classification accuracy. In this chapter, we introduced three models -- VGG, GoogleNet, ResNet and provided PaddlePaddle config files for training VGG and ResNet on CIFAR10. We also explained how to perform prediction and feature extraction using the PaddlePaddle API. For other datasets such as ImageNet, the procedure for config and training are the same and you are welcome to give it a try.\n",
        "\n",
        "\n",
        "## References\n",
        "\n",
        "[1] D. G. Lowe, [Distinctive image features from scale-invariant keypoints](http://www.cs.ubc.ca/~lowe/papers/ijcv04.pdf). IJCV, 60(2):91-110, 2004.\n",
        "\n",
        "[2] N. Dalal, B. Triggs, [Histograms of Oriented Gradients for Human Detection](http://vision.stanford.edu/teaching/cs231b_spring1213/papers/CVPR05_DalalTriggs.pdf), Proc. IEEE Conf. Computer Vision and Pattern Recognition, 2005.\n",
        "\n",
        "[3] Ahonen, T., Hadid, A., and Pietikinen, M. (2006). [Face description with local binary patterns: Application to face recognition](http://ieeexplore.ieee.org/document/1717463/). PAMI, 28.\n",
        "\n",
        "[4] J. Sivic, A. Zisserman, [Video Google: A Text Retrieval Approach to Object Matching in Videos](http://www.robots.ox.ac.uk/~vgg/publications/papers/sivic03.pdf), Proc. Ninth Int'l Conf. Computer Vision, pp. 1470-1478, 2003.\n",
        "\n",
        "[5] B. Olshausen, D. Field, [Sparse Coding with an Overcomplete Basis Set: A Strategy Employed by V1?](http://redwood.psych.cornell.edu/papers/olshausen_field_1997.pdf), Vision Research, vol. 37, pp. 3311-3325, 1997.\n",
        "\n",
        "[6] Wang, J., Yang, J., Yu, K., Lv, F., Huang, T., and Gong, Y. (2010). [Locality-constrained Linear Coding for image classification](http://ieeexplore.ieee.org/abstract/document/5540018/). In CVPR.\n",
        "\n",
        "[7] Perronnin, F., Sánchez, J., \u0026 Mensink, T. (2010). [Improving the fisher kernel for large-scale image classification](http://dl.acm.org/citation.cfm?id=1888101). In ECCV (4).\n",
        "\n",
        "[8] Lin, Y., Lv, F., Cao, L., Zhu, S., Yang, M., Cour, T., Yu, K., and Huang, T. (2011). [Large-scale image clas- sification: Fast feature extraction and SVM training](http://ieeexplore.ieee.org/document/5995477/). In CVPR.\n",
        "\n",
        "[9] Krizhevsky, A., Sutskever, I., and Hinton, G. (2012). [ImageNet classification with deep convolutional neu- ral networks](http://www.cs.toronto.edu/~kriz/imagenet_classification_with_deep_convolutional.pdf). In NIPS.\n",
        "\n",
        "[10] G.E. Hinton, N. Srivastava, A. Krizhevsky, I. Sutskever, and R.R. Salakhutdinov. [Improving neural networks by preventing co-adaptation of feature detectors](https://arxiv.org/abs/1207.0580). arXiv preprint arXiv:1207.0580, 2012.\n",
        "\n",
        "[11] K. Chatfield, K. Simonyan, A. Vedaldi, A. Zisserman. [Return of the Devil in the Details: Delving Deep into Convolutional Nets](https://arxiv.org/abs/1405.3531). BMVC, 2014。\n",
        "\n",
        "[12] Szegedy, C., Liu, W., Jia, Y., Sermanet, P., Reed, S., Anguelov, D., Erhan, D., Vanhoucke, V., Rabinovich, A., [Going deeper with convolutions](https://arxiv.org/abs/1409.4842). In: CVPR. (2015)\n",
        "\n",
        "[13] Lin, M., Chen, Q., and Yan, S. [Network in network](https://arxiv.org/abs/1312.4400). In Proc. ICLR, 2014.\n",
        "\n",
        "[14] S. Ioffe and C. Szegedy. [Batch normalization: Accelerating deep network training by reducing internal covariate shift](https://arxiv.org/abs/1502.03167). In ICML, 2015.\n",
        "\n",
        "[15] K. He, X. Zhang, S. Ren, J. Sun. [Deep Residual Learning for Image Recognition](https://arxiv.org/abs/1512.03385). CVPR 2016.\n",
        "\n",
        "[16] Szegedy, C., Vanhoucke, V., Ioffe, S., Shlens, J., Wojna, Z. [Rethinking the incep-tion architecture for computer vision](https://arxiv.org/abs/1512.00567). In: CVPR. (2016).\n",
        "\n",
        "[17] Szegedy, C., Ioffe, S., Vanhoucke, V. [Inception-v4, inception-resnet and the impact of residual connections on learning](https://arxiv.org/abs/1602.07261). arXiv:1602.07261 (2016).\n",
        "\n",
        "[18] Everingham, M., Eslami, S. M. A., Van Gool, L., Williams, C. K. I., Winn, J. and Zisserman, A. [The Pascal Visual Object Classes Challenge: A Retrospective]((http://link.springer.com/article/10.1007/s11263-014-0733-5)). International Journal of Computer Vision, 111(1), 98-136, 2015.\n",
        "\n",
        "[19] He, K., Zhang, X., Ren, S., and Sun, J. [Delving Deep into Rectifiers: Surpassing Human-Level Performance on ImageNet Classification](https://arxiv.org/abs/1502.01852). ArXiv e-prints, February 2015.\n",
        "\n",
        "[20] http://deeplearning.net/tutorial/lenet.html\n",
        "\n",
        "[21] https://www.cs.toronto.edu/~kriz/cifar.html\n",
        "\n",
        "[22] http://cs231n.github.io/classification/\n",
        "\n",
        "\u003cbr/\u003e\n",
        "This tutorial is contributed by \u003ca xmlns:cc=\"http://creativecommons.org/ns#\" href=\"http://book.paddlepaddle.org\" property=\"cc:attributionName\" rel=\"cc:attributionURL\"\u003ePaddlePaddle\u003c/a\u003e, and licensed under a \u003ca rel=\"license\" href=\"http://creativecommons.org/licenses/by-sa/4.0/\"\u003eCreative Commons Attribution-ShareAlike 4.0 International License\u003c/a\u003e.\n"
      ]
    }
  ],
  "metadata": {
    "kernelspec": {
      "display_name": "Python 3",
      "language": "python",
      "name": "python3"
    },
    "language_info": {
      "codemirror_mode": {
        "name": "ipython",
        "version": 3
      },
      "file_extension": ".py",
      "mimetype": "text/x-python",
      "name": "python",
      "nbconvert_exporter": "python",
      "pygments_lexer": "ipython3",
      "version": "3.6.0"
    }
  },
  "nbformat": 4,
  "nbformat_minor": 0
}
